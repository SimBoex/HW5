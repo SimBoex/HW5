{
 "cells": [
  {
   "cell_type": "code",
   "execution_count": 4,
   "id": "7a9925a4",
   "metadata": {},
   "outputs": [],
   "source": [
    "import pickle\n",
    "import networkx as nx\n",
    "from collections import defaultdict\n",
    "import math\n",
    "import numpy as np\n",
    "import pandas as pd\n",
    "import matplotlib.pyplot as plt\n"
   ]
  },
  {
   "cell_type": "code",
   "execution_count": 5,
   "id": "6a412a58",
   "metadata": {},
   "outputs": [],
   "source": [
    "# Load graphs\n",
    "with open(\"final_G\", 'rb') as f1: \n",
    "    final_G = pickle.load(f1)"
   ]
  },
  {
   "cell_type": "code",
   "execution_count": 6,
   "id": "974a0249",
   "metadata": {},
   "outputs": [
    {
     "name": "stdout",
     "output_type": "stream",
     "text": [
      "MultiGraph with 429318 nodes and 1854022 edges\n"
     ]
    }
   ],
   "source": [
    "print(final_G)"
   ]
  },
  {
   "cell_type": "code",
   "execution_count": 7,
   "id": "d79377f5",
   "metadata": {},
   "outputs": [],
   "source": [
    "with open(\"Recent_comments_onAnswers\", 'rb') as f2: \n",
    "    CA = pickle.load(f2)"
   ]
  },
  {
   "cell_type": "code",
   "execution_count": 8,
   "id": "5566f774",
   "metadata": {},
   "outputs": [
    {
     "name": "stdout",
     "output_type": "stream",
     "text": [
      "MultiGraph with 244140 nodes and 618024 edges\n"
     ]
    }
   ],
   "source": [
    "print(CA)"
   ]
  },
  {
   "cell_type": "code",
   "execution_count": 9,
   "id": "d2643563",
   "metadata": {},
   "outputs": [],
   "source": [
    "with open(\"Recent_answers\", 'rb') as f3: \n",
    "    A = pickle.load(f3)"
   ]
  },
  {
   "cell_type": "code",
   "execution_count": 10,
   "id": "0661088c",
   "metadata": {},
   "outputs": [
    {
     "name": "stdout",
     "output_type": "stream",
     "text": [
      "MultiDiGraph with 318017 nodes and 548450 edges\n"
     ]
    }
   ],
   "source": [
    "print(A)"
   ]
  },
  {
   "cell_type": "code",
   "execution_count": 11,
   "id": "16983581",
   "metadata": {},
   "outputs": [],
   "source": [
    "with open(\"Recent_comments_onQuestions\", 'rb') as f4: \n",
    "    CQ = pickle.load(f4)"
   ]
  },
  {
   "cell_type": "code",
   "execution_count": 12,
   "id": "a5a9325e",
   "metadata": {
    "scrolled": true
   },
   "outputs": [
    {
     "name": "stdout",
     "output_type": "stream",
     "text": [
      "MultiGraph with 227728 nodes and 687559 edges\n"
     ]
    }
   ],
   "source": [
    "print(CQ)"
   ]
  },
  {
   "cell_type": "markdown",
   "id": "825e03a0",
   "metadata": {},
   "source": [
    "# 2. Implementation of the backend\n",
    "----\n",
    "The goal of this part is the implementation of a unique system that has ... different functionalities. The program takes in input always a number i in [1,...]: given the input, the program has to run Functionality i, applied to the graph you create from the downloaded data.\n",
    "\n",
    "## Functionality 1 - Get the overall features of the graph\n",
    "\n",
    "It takes in input:\n",
    "\n",
    "- One of the 3 graphs\n",
    "\n",
    "\n",
    "The output should return:\n",
    "- Whether the graph is directed or not\n",
    "- Number of users\n",
    "- Number of answers/comments\n",
    "- Average number of links per user\n",
    "- Density degree of the graph\n",
    "- Whether the graph is sparse or dense\n",
    "\n"
   ]
  },
  {
   "cell_type": "code",
   "execution_count": 10,
   "id": "7fc2c027",
   "metadata": {
    "scrolled": true
   },
   "outputs": [],
   "source": [
    "#functionality = int(input('Hello there please choose a functionality (1-3)'))\n",
    "#Graph = input('Now choose one of the 3 graphs (CQ , A , CA)')\n",
    "#Directed(Graph)\n",
    "#Dir_or_not(Graph)\n"
   ]
  },
  {
   "cell_type": "markdown",
   "id": "aa250397",
   "metadata": {},
   "source": [
    "Let's create all the features for the functionality 1:\n",
    "\n",
    "\n",
    "For some of the functions we created two versions : one to visualize and one to be used when called in other functions\n"
   ]
  },
  {
   "cell_type": "code",
   "execution_count": 11,
   "id": "ed95c8c1",
   "metadata": {},
   "outputs": [],
   "source": [
    "def Directed(g):\n",
    "    \n",
    "    directed = False                     #assuming the graph is undirected\n",
    "    edges = [n for n in g.edges()]       \n",
    "    \n",
    "    for edge in edges:                        #we are checking for every connection\n",
    "        if (edge[1],edge[0]) not in edges:     #if the undirected condition holds for each pair \n",
    "            directed = True                     #if one match is not found then the graph is directed\n",
    "            break\n",
    "            \n",
    "    return directed    "
   ]
  },
  {
   "cell_type": "code",
   "execution_count": 13,
   "id": "f4b96aea",
   "metadata": {},
   "outputs": [],
   "source": [
    "def Dir_or_not(g):\n",
    "    \n",
    "    directed = False\n",
    "    edges = [n for n in g.edges()]\n",
    "    \n",
    "    for edge in edges:\n",
    "        if (edge[1],edge[0]) not in edges:\n",
    "            directed = True\n",
    "            break\n",
    "            \n",
    "    if directed == True:\n",
    "        print('The Graph is directed')\n",
    "    else:\n",
    "        print('The Graph is undirected')   "
   ]
  },
  {
   "cell_type": "code",
   "execution_count": 14,
   "id": "833a21c3",
   "metadata": {},
   "outputs": [
    {
     "name": "stdout",
     "output_type": "stream",
     "text": [
      "The Graph is directed\n"
     ]
    }
   ],
   "source": [
    "Dir_or_not(CQ)"
   ]
  },
  {
   "cell_type": "code",
   "execution_count": 15,
   "id": "d222b469",
   "metadata": {},
   "outputs": [],
   "source": [
    "def UsersandComments(g):             #here we are counting the nuber of nodes/users and edge/connections\n",
    "    nodes = [n for n in g.nodes()]\n",
    "    edges = [n for n in g.edges()]\n",
    "    return len(nodes) , len(edges)"
   ]
  },
  {
   "cell_type": "code",
   "execution_count": 16,
   "id": "f4fdf63a",
   "metadata": {},
   "outputs": [
    {
     "data": {
      "text/plain": [
       "227728"
      ]
     },
     "execution_count": 16,
     "metadata": {},
     "output_type": "execute_result"
    }
   ],
   "source": [
    "UsersandComments(CQ)[0]"
   ]
  },
  {
   "cell_type": "code",
   "execution_count": 17,
   "id": "fd9eb40d",
   "metadata": {},
   "outputs": [],
   "source": [
    "def Num_us(g):\n",
    "    nodes = [n for n in g.nodes()]\n",
    "    edges = [n for n in g.edges()]\n",
    "    print(f'The Graph has {len(nodes)} users and {len(edges)} answers/comments')\n",
    "    "
   ]
  },
  {
   "cell_type": "code",
   "execution_count": 18,
   "id": "e9f2f776",
   "metadata": {},
   "outputs": [
    {
     "name": "stdout",
     "output_type": "stream",
     "text": [
      "The Graph has 227728 users and 687559 answers/comments\n"
     ]
    }
   ],
   "source": [
    "Num_us(CQ)"
   ]
  },
  {
   "cell_type": "code",
   "execution_count": 19,
   "id": "e2d4e1df",
   "metadata": {},
   "outputs": [],
   "source": [
    "def linkxuser(g):                    #checking avg link per users\n",
    "    \n",
    "    edges = [n for n in g.edges()]\n",
    "    links_dic = defaultdict(int)         #create a dictionary key = user : value = frequency of connections\n",
    "    num_link = []\n",
    "    \n",
    "    for edge in edges:\n",
    "        user = edge[0]\n",
    "        links_dic[user] += 1\n",
    "    \n",
    "    for link in links_dic.values():      #calculating the mean\n",
    "        num_link.append(link)\n",
    "        \n",
    "    return round(np.mean(num_link),2)"
   ]
  },
  {
   "cell_type": "code",
   "execution_count": 20,
   "id": "9a6f4dad",
   "metadata": {},
   "outputs": [],
   "source": [
    "def Avglink(g):\n",
    "    \n",
    "    edges = [n for n in g.edges()]\n",
    "    links_dic = defaultdict(int)\n",
    "    num_link = []\n",
    "    \n",
    "    for edge in edges:\n",
    "        user = edge[0]\n",
    "        links_dic[user] += 1\n",
    "    \n",
    "    for link in links_dic.values():\n",
    "        num_link.append(link)\n",
    "        \n",
    "    print(f'The average number of links per user is {round(np.mean(num_link),2)}')"
   ]
  },
  {
   "cell_type": "code",
   "execution_count": 21,
   "id": "8dab2e6f",
   "metadata": {},
   "outputs": [
    {
     "name": "stdout",
     "output_type": "stream",
     "text": [
      "The average number of links per user is 9.34\n"
     ]
    }
   ],
   "source": [
    "Avglink(CQ)"
   ]
  },
  {
   "cell_type": "code",
   "execution_count": 22,
   "id": "85e6997d",
   "metadata": {},
   "outputs": [],
   "source": [
    "def Dense(g):\n",
    "    nodes = len([n for n in g.nodes()])\n",
    "    edges = len([n for n in g.edges()])\n",
    "    \n",
    "    if Directed(g):\n",
    "        return (edges)/(nodes*(nodes-1))        #density formula for directed graph \n",
    "    \n",
    "    else:\n",
    "        return (2*edges)/(nodes*(nodes-1))      #density formula for undirected graph "
   ]
  },
  {
   "cell_type": "code",
   "execution_count": 23,
   "id": "bfef6658",
   "metadata": {},
   "outputs": [],
   "source": [
    "def Density(g):\n",
    "    nodes = len([n for n in g.nodes()])\n",
    "    edges = len([n for n in g.edges()])\n",
    "    \n",
    "    if Directed(g):\n",
    "        print('The density degree of the graph is ', (edges)/(nodes*(nodes-1)))\n",
    "    \n",
    "    else:\n",
    "        print('The density degree of the graph is ', (2*edges)/(nodes*(nodes-1)))"
   ]
  },
  {
   "cell_type": "code",
   "execution_count": 24,
   "id": "f829e41b",
   "metadata": {},
   "outputs": [
    {
     "name": "stdout",
     "output_type": "stream",
     "text": [
      "The density degree of the graph is  1.3258030516768614e-05\n"
     ]
    }
   ],
   "source": [
    "Density(CQ)"
   ]
  },
  {
   "cell_type": "code",
   "execution_count": 25,
   "id": "532fc82e",
   "metadata": {},
   "outputs": [],
   "source": [
    "def sparsity(g):                               \n",
    "    #sparsity can be ambiguos: \n",
    "    ''' graph in which the number of edges is much less than the possible number of edges.'''\n",
    "    #so we setted this thresholds\n",
    "     \n",
    "    nodes = len([n for n in g.nodes()])\n",
    "    edges = len([n for n in CQ.edges()])\n",
    "    \n",
    "    if Directed(g):\n",
    "        max_conn = nodes*(nodes-1)\n",
    "        if edges/max_conn > 0.5:\n",
    "            return 'Quite dense'\n",
    "        elif edges/max_conn > 0.7:\n",
    "            return 'Dense'\n",
    "        else :\n",
    "            return 'Quite sparse'\n",
    "    else:\n",
    "        max_conn = (nodes*(nodes-1))/2\n",
    "        if edges/max_conn > 0.5:\n",
    "            return 'Quite dense'\n",
    "        elif edges/max_conn > 0.7:\n",
    "            return 'Dense'\n",
    "        else :\n",
    "            return 'Quite sparse'"
   ]
  },
  {
   "cell_type": "code",
   "execution_count": 26,
   "id": "825b72fb",
   "metadata": {},
   "outputs": [],
   "source": [
    "def sparseornot(g):\n",
    "    nodes = len([n for n in g.nodes()])\n",
    "    edges = len([n for n in CQ.edges()])\n",
    "    \n",
    "    if Directed(g):\n",
    "        max_conn = nodes*(nodes-1)\n",
    "        if edges/max_conn > 0.5:\n",
    "            print('The graph is quite dense')\n",
    "        elif edges/max_conn > 0.7:\n",
    "            print('The graph is dense')\n",
    "        else :\n",
    "            print('The graph is quite sparse')\n",
    "    else:\n",
    "        max_conn = (nodes*(nodes-1))/2\n",
    "        if edges/max_conn > 0.5:\n",
    "            print('The graph is quite dense')\n",
    "        elif edges/max_conn > 0.7:\n",
    "            print('The graph is dense')\n",
    "        else :\n",
    "            print('The graph is quite sparse')"
   ]
  },
  {
   "cell_type": "code",
   "execution_count": 27,
   "id": "056ac4c2",
   "metadata": {},
   "outputs": [
    {
     "name": "stdout",
     "output_type": "stream",
     "text": [
      "The graph is quite sparse\n"
     ]
    }
   ],
   "source": [
    "sparseornot(CQ)"
   ]
  },
  {
   "cell_type": "markdown",
   "id": "84107596",
   "metadata": {},
   "source": [
    "# 3. Implementation of the frontend\n",
    "In this section, we ask you to build the visualizations for users’ queries results. We also expect you to showcase plots which can give us the most insight as possible and comment them accordingly.\n",
    "\n",
    "## Visualization 1 - Visualize the overall features of the graph\n",
    "\n",
    "Output a table with all of the information requested. The visualization should also generate a plot of the density distribution of the graph provided as input.\n",
    "- Whether the graph is directed or not\n",
    "- Number of users\n",
    "- Number of answers/comments\n",
    "- Average number of links per user\n",
    "- Density degree of the graph\n",
    "- Whether the graph is sparse or dense"
   ]
  },
  {
   "cell_type": "markdown",
   "id": "682225eb",
   "metadata": {},
   "source": [
    "the visual() function displays all the info about a specific graph"
   ]
  },
  {
   "cell_type": "code",
   "execution_count": 72,
   "id": "a9ca071d",
   "metadata": {},
   "outputs": [],
   "source": [
    "def Visual(g):\n",
    "    Visualization = pd.DataFrame()\n",
    "    \n",
    "    Visualization['Dir or Un'] = [Directed(g)]\n",
    "    Visualization['Users'] = [UsersandComments(g)[0]]\n",
    "    Visualization['Answers/Comments'] = [UsersandComments(g)[1]]\n",
    "    Visualization['Avg link per user'] = [linkxuser(g)]\n",
    "    Visualization['Density'] = [Dense(g)]\n",
    "    Visualization['Sparse/Dense'] = [sparsity(g)]\n",
    "    \n",
    "    \n",
    "    \n",
    "    def OccDict(g):\n",
    "        edges = [n for n in g.edges()]\n",
    "        links_dic = defaultdict(int)\n",
    "    \n",
    "    \n",
    "        for edge in edges:\n",
    "            user = edge[0]\n",
    "            links_dic[user] += 1\n",
    "        return links_dic\n",
    "    \n",
    "    mydict = OccDict(g)\n",
    "    mylist = [key for key, val in mydict.items() for _ in range(val)]\n",
    "    plt.hist(mylist, bins=50)\n",
    "    \n",
    "    \n",
    "    display(Visualization)\n",
    "    plt.hist(mylist, bins=50)\n",
    "    \n",
    "    df = pd.DataFrame([mydict])\n",
    "    df = df.T\n",
    "    df.hist(bins = 20)\n",
    "    display(df.describe())"
   ]
  },
  {
   "cell_type": "code",
   "execution_count": 73,
   "id": "4efada3f",
   "metadata": {},
   "outputs": [
    {
     "data": {
      "text/html": [
       "<div>\n",
       "<style scoped>\n",
       "    .dataframe tbody tr th:only-of-type {\n",
       "        vertical-align: middle;\n",
       "    }\n",
       "\n",
       "    .dataframe tbody tr th {\n",
       "        vertical-align: top;\n",
       "    }\n",
       "\n",
       "    .dataframe thead th {\n",
       "        text-align: right;\n",
       "    }\n",
       "</style>\n",
       "<table border=\"1\" class=\"dataframe\">\n",
       "  <thead>\n",
       "    <tr style=\"text-align: right;\">\n",
       "      <th></th>\n",
       "      <th>Dir or Un</th>\n",
       "      <th>Users</th>\n",
       "      <th>Answers/Comments</th>\n",
       "      <th>Avg link per user</th>\n",
       "      <th>Density</th>\n",
       "      <th>Sparse/Dense</th>\n",
       "    </tr>\n",
       "  </thead>\n",
       "  <tbody>\n",
       "    <tr>\n",
       "      <th>0</th>\n",
       "      <td>True</td>\n",
       "      <td>244140</td>\n",
       "      <td>618024</td>\n",
       "      <td>6.34</td>\n",
       "      <td>0.00001</td>\n",
       "      <td>Quite sparse</td>\n",
       "    </tr>\n",
       "  </tbody>\n",
       "</table>\n",
       "</div>"
      ],
      "text/plain": [
       "   Dir or Un   Users  Answers/Comments  Avg link per user  Density  \\\n",
       "0       True  244140            618024               6.34  0.00001   \n",
       "\n",
       "   Sparse/Dense  \n",
       "0  Quite sparse  "
      ]
     },
     "metadata": {},
     "output_type": "display_data"
    },
    {
     "data": {
      "text/html": [
       "<div>\n",
       "<style scoped>\n",
       "    .dataframe tbody tr th:only-of-type {\n",
       "        vertical-align: middle;\n",
       "    }\n",
       "\n",
       "    .dataframe tbody tr th {\n",
       "        vertical-align: top;\n",
       "    }\n",
       "\n",
       "    .dataframe thead th {\n",
       "        text-align: right;\n",
       "    }\n",
       "</style>\n",
       "<table border=\"1\" class=\"dataframe\">\n",
       "  <thead>\n",
       "    <tr style=\"text-align: right;\">\n",
       "      <th></th>\n",
       "      <th>0</th>\n",
       "    </tr>\n",
       "  </thead>\n",
       "  <tbody>\n",
       "    <tr>\n",
       "      <th>count</th>\n",
       "      <td>97542.000000</td>\n",
       "    </tr>\n",
       "    <tr>\n",
       "      <th>mean</th>\n",
       "      <td>6.335978</td>\n",
       "    </tr>\n",
       "    <tr>\n",
       "      <th>std</th>\n",
       "      <td>24.868469</td>\n",
       "    </tr>\n",
       "    <tr>\n",
       "      <th>min</th>\n",
       "      <td>1.000000</td>\n",
       "    </tr>\n",
       "    <tr>\n",
       "      <th>25%</th>\n",
       "      <td>1.000000</td>\n",
       "    </tr>\n",
       "    <tr>\n",
       "      <th>50%</th>\n",
       "      <td>2.000000</td>\n",
       "    </tr>\n",
       "    <tr>\n",
       "      <th>75%</th>\n",
       "      <td>4.000000</td>\n",
       "    </tr>\n",
       "    <tr>\n",
       "      <th>max</th>\n",
       "      <td>1693.000000</td>\n",
       "    </tr>\n",
       "  </tbody>\n",
       "</table>\n",
       "</div>"
      ],
      "text/plain": [
       "                  0\n",
       "count  97542.000000\n",
       "mean       6.335978\n",
       "std       24.868469\n",
       "min        1.000000\n",
       "25%        1.000000\n",
       "50%        2.000000\n",
       "75%        4.000000\n",
       "max     1693.000000"
      ]
     },
     "metadata": {},
     "output_type": "display_data"
    },
    {
     "data": {
      "image/png": "[encoded data removed]",
      "text/plain": [
       "<Figure size 432x288 with 1 Axes>"
      ]
     },
     "metadata": {
      "needs_background": "light"
     },
     "output_type": "display_data"
    },
    {
     "data": {
      "image/png": "[encoded data removed]",
      "text/plain": [
       "<Figure size 432x288 with 1 Axes>"
      ]
     },
     "metadata": {
      "needs_background": "light"
     },
     "output_type": "display_data"
    }
   ],
   "source": [
    "Visual(CA)#,Visual(CQ),Visual(A)"
   ]
  },
  {
   "cell_type": "code",
   "execution_count": null,
   "id": "36342dc6",
   "metadata": {},
   "outputs": [],
   "source": []
  }
 ],
 "metadata": {
  "kernelspec": {
   "display_name": "Python 3 (ipykernel)",
   "language": "python",
   "name": "python3"
  },
  "language_info": {
   "codemirror_mode": {
    "name": "ipython",
    "version": 3
   },
   "file_extension": ".py",
   "mimetype": "text/x-python",
   "name": "python",
   "nbconvert_exporter": "python",
   "pygments_lexer": "ipython3",
   "version": "3.8.2"
  }
 },
 "nbformat": 4,
 "nbformat_minor": 5
}
