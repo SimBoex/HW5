{
 "cells": [
  {
   "cell_type": "code",
   "execution_count": 1,
   "id": "600a42f7-f097-497c-bba6-64c68e714c1f",
   "metadata": {},
   "outputs": [],
   "source": [
    "import pandas as pd\n",
    "import networkx as nx\n",
    "import pickle \n",
    "\n",
    "import numpy as np\n",
    "from heapq import heapify, heappush, heappop\n",
    "from utils_2_3 import first,path,dijkstra,new_graph,traceback,maps,links,create_path,visualizePath\n",
    "\n",
    "from Utils_2_4 import new_graph_SumWeights,Min_cut,findUser"
   ]
  },
  {
   "cell_type": "markdown",
   "id": "64c02df5-a134-4583-a9d2-2ff22dff15e9",
   "metadata": {
    "tags": []
   },
   "source": [
    "# We can start creating the needed first graph"
   ]
  },
  {
   "cell_type": "code",
   "execution_count": 2,
   "id": "82474bb9-90f0-4b38-8142-65c81dfb5a56",
   "metadata": {},
   "outputs": [],
   "source": [
    "answers=pd.read_csv(\"/Users/simone/Desktop/sx-stackoverflow-a2q.txt\",sep=\" \",header=None,names=['Active_User', 'Passive_User', 'Date'])"
   ]
  },
  {
   "cell_type": "code",
   "execution_count": 3,
   "id": "ed972654-9c0f-40ed-85e7-f326556bf662",
   "metadata": {},
   "outputs": [],
   "source": [
    "startingTime=pd.to_datetime('2016-01-01')"
   ]
  },
  {
   "cell_type": "code",
   "execution_count": 4,
   "id": "0c4e1be2-7263-4caf-a625-95bed6b1b267",
   "metadata": {},
   "outputs": [],
   "source": [
    "answers[\"Date\"]=pd.to_datetime(answers['Date'],unit='s')"
   ]
  },
  {
   "cell_type": "code",
   "execution_count": 5,
   "id": "ff2da5af-6c3c-44b7-bc8b-e96b34ec8337",
   "metadata": {},
   "outputs": [],
   "source": [
    "Recent_answers=answers[(answers['Date'] >= startingTime) & (answers[\"Active_User\"] != answers[\"Passive_User\"])].copy()"
   ]
  },
  {
   "cell_type": "code",
   "execution_count": 6,
   "id": "d0afce8b-4fef-4fb1-af37-b1611f9f84bb",
   "metadata": {},
   "outputs": [],
   "source": [
    "Recent_answers[\"weight\"]=1"
   ]
  },
  {
   "cell_type": "code",
   "execution_count": 7,
   "id": "d62ec2ea-acb5-4bcf-913e-4b82d91a2aeb",
   "metadata": {},
   "outputs": [],
   "source": [
    "g = nx.from_pandas_edgelist(Recent_answers, \"Active_User\", \"Passive_User\", edge_attr=\"weight\",edge_key=\"Date\",create_using=nx.MultiDiGraph())"
   ]
  },
  {
   "cell_type": "markdown",
   "id": "8c171c88-41b4-4bd4-acc2-4732a935006e",
   "metadata": {},
   "source": [
    "# loading the comments on questions"
   ]
  },
  {
   "cell_type": "code",
   "execution_count": 8,
   "id": "17bb9f0e-5cae-47e1-90d8-ac47bc010e4b",
   "metadata": {},
   "outputs": [],
   "source": [
    "comments_onQuestions=pd.read_csv(\"/Users/simone/Desktop/sx-stackoverflow-c2q.txt\",sep=\" \",header=None,names=['Active_User', 'Passive_User', 'Date'])"
   ]
  },
  {
   "cell_type": "code",
   "execution_count": 9,
   "id": "9ad243c1-ff01-407d-87d6-1135227cad19",
   "metadata": {},
   "outputs": [],
   "source": [
    "comments_onQuestions[\"Date\"]=pd.to_datetime(comments_onQuestions['Date'],unit='s')"
   ]
  },
  {
   "cell_type": "markdown",
   "id": "3c6630b5-8e0b-4b14-8208-87114f212643",
   "metadata": {},
   "source": [
    "Selecting only the most recent comments"
   ]
  },
  {
   "cell_type": "code",
   "execution_count": 10,
   "id": "8973e972-1a2a-4d9f-a611-13b1fe0a64dc",
   "metadata": {},
   "outputs": [],
   "source": [
    "Recent_comments_onQuestions=comments_onQuestions[(comments_onQuestions['Date'] >= startingTime) & (comments_onQuestions[\"Active_User\"] != comments_onQuestions[\"Passive_User\"])].copy()"
   ]
  },
  {
   "cell_type": "code",
   "execution_count": 11,
   "id": "30220a65-b221-4c3f-9a23-f79640b22e26",
   "metadata": {},
   "outputs": [],
   "source": [
    "Recent_comments_onQuestions[\"weight\"]=0.4"
   ]
  },
  {
   "cell_type": "code",
   "execution_count": 12,
   "id": "07abe27f-7027-403b-8de5-13808fb68f03",
   "metadata": {},
   "outputs": [],
   "source": [
    "g2 = nx.from_pandas_edgelist(Recent_comments_onQuestions, \"Active_User\", \"Passive_User\", edge_attr=\"weight\",edge_key=\"Date\",create_using=nx.MultiDiGraph())"
   ]
  },
  {
   "cell_type": "markdown",
   "id": "bc9f4d29-8520-40fa-8bb4-4be77ac00481",
   "metadata": {},
   "source": [
    "# Combining the MultiDiGraph using the networkx library"
   ]
  },
  {
   "cell_type": "code",
   "execution_count": 13,
   "id": "c09f6777-2b8e-446a-9ec9-1cfd0e495f72",
   "metadata": {},
   "outputs": [],
   "source": [
    "G = nx.compose(g,g2)"
   ]
  },
  {
   "cell_type": "markdown",
   "id": "2ec9f433-57af-4ce1-9348-fe0c935c5de8",
   "metadata": {},
   "source": [
    "# Loading all the comments on answers"
   ]
  },
  {
   "cell_type": "code",
   "execution_count": 14,
   "id": "c15b1d23-9075-49b4-93fa-fff91a77f1ef",
   "metadata": {},
   "outputs": [],
   "source": [
    "comments_onAnswers=pd.read_csv(\"/Users/simone/Desktop/sx-stackoverflow-c2a.txt\",sep=\" \",header=None,names=['Active_User', 'Passive_User', 'Date'])"
   ]
  },
  {
   "cell_type": "code",
   "execution_count": 15,
   "id": "5d67b41c-7a4d-4671-9d95-796936d228a7",
   "metadata": {},
   "outputs": [],
   "source": [
    "comments_onAnswers[\"Date\"]=pd.to_datetime(comments_onAnswers['Date'],unit='s')"
   ]
  },
  {
   "cell_type": "markdown",
   "id": "43eb3a7c-6501-47cf-b9a3-1ea0a2840c2a",
   "metadata": {},
   "source": [
    "Selecting only the most recent comments"
   ]
  },
  {
   "cell_type": "code",
   "execution_count": 16,
   "id": "bc45dc04-022b-43ab-be6f-0b7640aada5d",
   "metadata": {},
   "outputs": [],
   "source": [
    "Recent_comments_onAnswers=comments_onAnswers[(comments_onAnswers['Date'] >= startingTime) & (comments_onAnswers[\"Active_User\"] != comments_onAnswers[\"Passive_User\"])].copy()"
   ]
  },
  {
   "cell_type": "code",
   "execution_count": 17,
   "id": "8360472f-58cd-419d-bc69-b086ac5538cf",
   "metadata": {},
   "outputs": [],
   "source": [
    "Recent_comments_onAnswers[\"weight\"]=0.6"
   ]
  },
  {
   "cell_type": "code",
   "execution_count": 18,
   "id": "3a1daa6f-e93d-4838-a364-846ebc1b3366",
   "metadata": {},
   "outputs": [],
   "source": [
    "g3 = nx.from_pandas_edgelist(Recent_comments_onAnswers, \"Active_User\", \"Passive_User\", edge_attr=\"weight\",edge_key=\"Date\",create_using=nx.MultiDiGraph())"
   ]
  },
  {
   "cell_type": "markdown",
   "id": "7ad945cd-fb75-473d-983e-49f852067dea",
   "metadata": {},
   "source": [
    "combining the multi-graph using the networkx library"
   ]
  },
  {
   "cell_type": "code",
   "execution_count": 19,
   "id": "bc2a62b1-ccde-4b52-9e55-bc8602bafed5",
   "metadata": {},
   "outputs": [],
   "source": [
    "final_G = nx.compose(g3,G)"
   ]
  },
  {
   "cell_type": "code",
   "execution_count": 20,
   "id": "af345dc4-af34-4eb8-aa7a-9fca2f19932b",
   "metadata": {},
   "outputs": [],
   "source": [
    "pickle.dump(final_G, open('final_G', 'wb'))"
   ]
  },
  {
   "cell_type": "markdown",
   "id": "e3cd62b7-6f08-4e46-b460-79f34987c91a",
   "metadata": {},
   "source": [
    "# Ex 2.3 and 3.3"
   ]
  },
  {
   "cell_type": "markdown",
   "id": "a0812aa4-d22d-474b-90c7-6e256ef8341f",
   "metadata": {},
   "source": [
    "Now since we are interested in the shortest walk path, we preprocess our graph, we make it a simple graph with interactions that happend in our desired interval, no more a MultiDiGraph( this preprocessing happens inside the \"path\" method).\n",
    "we decided to do this because for this exercise we are interested only at the directed edge with the smallest weight between 2 node that happened in our desired interval of time.\n",
    "And therefore we create this graph for each interval of time that we need to look for."
   ]
  },
  {
   "cell_type": "markdown",
   "id": "f01d0b51-7fc4-4b0a-8361-2c3740fb8552",
   "metadata": {},
   "source": [
    "we load the  MultiDiGraph"
   ]
  },
  {
   "cell_type": "code",
   "execution_count": 21,
   "id": "bb0f5bd3-c6f6-49b8-baa3-6f81080c2136",
   "metadata": {},
   "outputs": [],
   "source": [
    "# Load graph\n",
    "with open(\"final_G\", 'rb') as f: \n",
    "    G_loaded = pickle.load(f)"
   ]
  },
  {
   "cell_type": "markdown",
   "id": "045ef2ae-8eaf-4d10-8768-021a96173836",
   "metadata": {},
   "source": [
    "just a remainder of the number of nodes and edges"
   ]
  },
  {
   "cell_type": "code",
   "execution_count": 22,
   "id": "90691445-891e-49d2-b8cc-cba6c4fa02ba",
   "metadata": {},
   "outputs": [
    {
     "name": "stdout",
     "output_type": "stream",
     "text": [
      "429318\n"
     ]
    }
   ],
   "source": [
    "print(len(G_loaded.nodes()))"
   ]
  },
  {
   "cell_type": "code",
   "execution_count": 23,
   "id": "359fae4d-73ce-4ceb-8e6a-3e308f60fe51",
   "metadata": {},
   "outputs": [
    {
     "name": "stdout",
     "output_type": "stream",
     "text": [
      "1854034\n"
     ]
    }
   ],
   "source": [
    "print(len(G_loaded.edges()))"
   ]
  },
  {
   "cell_type": "markdown",
   "id": "d39ef483-6490-4683-a0ec-39569d6bb19d",
   "metadata": {},
   "source": [
    "First step: we decided to rename the nodes with numbers from 0 to n with n that is equal to the number of nodes"
   ]
  },
  {
   "cell_type": "markdown",
   "id": "b2f835c3-47bf-4f81-93f4-7c07ba1d1358",
   "metadata": {},
   "source": [
    "We use the \"first\" method, that returns the renamed  graph and a random sequence of nodes"
   ]
  },
  {
   "cell_type": "code",
   "execution_count": 24,
   "id": "3ce46106-2c64-4801-bdda-812864305416",
   "metadata": {},
   "outputs": [],
   "source": [
    "dg,index,mapping=first(G_loaded)"
   ]
  },
  {
   "cell_type": "markdown",
   "id": "64f48537-e5a4-40c3-9c48-a6809f21dcb9",
   "metadata": {},
   "source": [
    "Now, we can start creating the arguments "
   ]
  },
  {
   "cell_type": "code",
   "execution_count": 25,
   "id": "bcb973c1-94d0-4e52-b79c-5ae804b208ed",
   "metadata": {},
   "outputs": [],
   "source": [
    "startingTime=pd.to_datetime('2016-01-01')\n",
    "endTime=pd.to_datetime('2016-01-08')"
   ]
  },
  {
   "cell_type": "markdown",
   "id": "9a41ca2b-8003-4aac-9a50-8b9d41439bb3",
   "metadata": {},
   "source": [
    "First, I want to execute the \"path\" method using the random path"
   ]
  },
  {
   "cell_type": "code",
   "execution_count": 26,
   "id": "fdc2e52f-8b51-4c70-8418-f1a0a80d0133",
   "metadata": {},
   "outputs": [
    {
     "name": "stdout",
     "output_type": "stream",
     "text": [
      "the sequnce of nodes : \n",
      "[0, 334630, 152746, 242244, 158203, 241646, 376151, 3294]\n",
      "the node 334630 doesn't interact in the chosen interval of time\n"
     ]
    },
    {
     "data": {
      "text/plain": [
       "[]"
      ]
     },
     "execution_count": 26,
     "metadata": {},
     "output_type": "execute_result"
    }
   ],
   "source": [
    "path(0,3294,index,dg,startingTime,endTime,mapping)"
   ]
  },
  {
   "cell_type": "markdown",
   "id": "04db5342-70d9-4a89-8c87-aca597c085bc",
   "metadata": {},
   "source": [
    "Since we use a limited interval of time, can happen that there isn't a path that follows the sequence of nodes."
   ]
  },
  {
   "cell_type": "markdown",
   "id": "61b7ba49-d3e6-4e95-bed3-b3d86bd7c8bc",
   "metadata": {},
   "source": [
    "Sometimes a node that interacts in the entire graph, doesn't interact at all in our desidered interval of time( like in our example the node 334630)"
   ]
  },
  {
   "cell_type": "markdown",
   "id": "d8b2ebc0-9ed6-4b67-ab67-5e6edb5e7f16",
   "metadata": {},
   "source": [
    "However this time, I want to choose a path  that I know it exits"
   ]
  },
  {
   "cell_type": "code",
   "execution_count": 27,
   "id": "59a3ebfb-2bcc-4209-b339-eaf3a491b7c8",
   "metadata": {},
   "outputs": [],
   "source": [
    "index= [ 1543, 59, 10089 ]"
   ]
  },
  {
   "cell_type": "code",
   "execution_count": 28,
   "id": "281e92bd-70ee-4d7c-9cc1-2b206fe30a33",
   "metadata": {
    "tags": []
   },
   "outputs": [
    {
     "name": "stdout",
     "output_type": "stream",
     "text": [
      "the sequnce of nodes : \n",
      "[0, 1543, 59, 10089, 3294]\n",
      "the smallest path distance between 0 and 1543 is  0.6\n",
      "the smallest path distance between 1543 and 59 is  0.6\n",
      "the smallest path distance between 59 and 10089 is  2.0\n",
      "the smallest path distance between 10089 and 3294 is  1.2\n",
      "The path that we need to follow is  [(0, 1543), (1543, 59), (59, 7323), (7323, 1543), (1543, 10089), (10089, 1543), (1543, 3294)]\n",
      "\n",
      "The starting and the end node are filled with red\n",
      "The path from 0 to 3294 is evidenced by red edges\n"
     ]
    },
    {
     "data": {
      "image/png": "[encoded data removed]",
      "text/plain": [
       "<Figure size 900x900 with 1 Axes>"
      ]
     },
     "metadata": {},
     "output_type": "display_data"
    },
    {
     "data": {
      "text/plain": [
       "[0, 1543, 59, 7323, 1543, 10089, 1543, 3294]"
      ]
     },
     "execution_count": 28,
     "metadata": {},
     "output_type": "execute_result"
    }
   ],
   "source": [
    "path(0,3294,index,dg,startingTime,endTime,mapping)"
   ]
  },
  {
   "cell_type": "markdown",
   "id": "5b21431b-d364-4687-ac73-bc5646574c55",
   "metadata": {},
   "source": [
    "This time, the path exits and we find that the total cost is 4.4"
   ]
  },
  {
   "cell_type": "markdown",
   "id": "0ba468b6-7d16-45ac-a2aa-399dfe0ca294",
   "metadata": {},
   "source": [
    "# Ex 2.4 and 3.4"
   ]
  },
  {
   "cell_type": "markdown",
   "id": "9d8da0f0-3df5-4319-b198-24044798ec6e",
   "metadata": {},
   "source": [
    "We create the timestamps to select the intervals"
   ]
  },
  {
   "cell_type": "code",
   "execution_count": 29,
   "id": "1e49df24-314d-40f8-a3a0-da2c2878e347",
   "metadata": {},
   "outputs": [],
   "source": [
    "# Load graph\n",
    "with open(\"/Users/simone/Desktop/final_G\", 'rb') as f: \n",
    "    G_loaded = pickle.load(f)"
   ]
  },
  {
   "cell_type": "code",
   "execution_count": 30,
   "id": "583779af-99cd-4392-be6e-3b6b373593fd",
   "metadata": {},
   "outputs": [],
   "source": [
    "startingTime1=pd.to_datetime('2016-01-01')\n",
    "endTime1=pd.to_datetime('2016-01-02')\n",
    "startingTime2=pd.to_datetime('2016-01-06')\n",
    "endTime2=pd.to_datetime('2017-01-03')\n",
    "\n",
    "startingTime=pd.to_datetime('2016-01-01')\n",
    "endTime=pd.to_datetime('2018-01-03')"
   ]
  },
  {
   "cell_type": "markdown",
   "id": "d1c7b0f8-a244-4e6c-a22e-19f4f9caf17d",
   "metadata": {},
   "source": [
    "First there is the step where we rename the nodes (we use the same function used for the 2.3 exercise)"
   ]
  },
  {
   "cell_type": "code",
   "execution_count": 31,
   "id": "04536e26-d181-4c42-91bd-51ff866ba657",
   "metadata": {},
   "outputs": [],
   "source": [
    "dg,mapping=maps(G_loaded)"
   ]
  },
  {
   "cell_type": "markdown",
   "id": "da716c84-22aa-463a-9c73-f13b3df74d7c",
   "metadata": {},
   "source": [
    " inside the Min_cut function, we preprocess the saved MultiDigraph, also in this case it's better to keep only one edge between two nodes.\n",
    "So, we decided to make it a simple direct graph with edges that are interactions that happend during an interval of time and that have as a weight the sum of all the weights of the happened interactions in that interval of time"
   ]
  },
  {
   "cell_type": "markdown",
   "id": "0329e496-4668-4009-ac1d-5f9a845d0cec",
   "metadata": {},
   "source": [
    "Now we find the two users that I need"
   ]
  },
  {
   "cell_type": "code",
   "execution_count": null,
   "id": "9c6ef068-3d51-47e5-b600-b0f785957db8",
   "metadata": {},
   "outputs": [],
   "source": [
    "user1,user2=findUser(startingTime1,endTime1,startingTime2,endTime1,dg)"
   ]
  },
  {
   "cell_type": "markdown",
   "id": "3bbf7659-41eb-4e15-9403-4b3401eaa004",
   "metadata": {},
   "source": [
    "Since we couldn't find the right 2 intervals of time, to get the 2 nodes, we decided to  disconnect 2 chosen nodes from the graph"
   ]
  },
  {
   "cell_type": "markdown",
   "id": "316cfe58-5b0b-4857-b06b-49096ae90f2c",
   "metadata": {},
   "source": [
    "The main idea is to find a path using djkstra, then remove the edge with the smallest weight and execute dikjstra again until there isn't a path that links the 2 nodes."
   ]
  },
  {
   "cell_type": "code",
   "execution_count": 33,
   "id": "95a92791-9f5e-4ce6-9d44-f5d8f29357a2",
   "metadata": {},
   "outputs": [
    {
     "name": "stdout",
     "output_type": "stream",
     "text": [
      "the smallest path distance between 0 and 190 is  1.2\n",
      "The path is : [(0, 1), (1, 190)]\n",
      "Here, the path that links 0 and 190\n",
      "\n",
      "The starting and the end node are filled with red\n",
      "The link that will be removed,it is evidenced by a red edge\n"
     ]
    },
    {
     "data": {
      "image/png": "[encoded data removed]",
      "text/plain": [
       "<Figure size 400x400 with 1 Axes>"
      ]
     },
     "metadata": {},
     "output_type": "display_data"
    },
    {
     "name": "stdout",
     "output_type": "stream",
     "text": [
      "there isn't a path between this two values 0 and 190\n",
      "the minimum number of links (considering their weight) is  1\n"
     ]
    },
    {
     "data": {
      "text/plain": [
       "(0.6, [(0, 1)])"
      ]
     },
     "execution_count": 33,
     "metadata": {},
     "output_type": "execute_result"
    }
   ],
   "source": [
    "Min_cut(dg,0,190,startingTime,endTime,mapping)"
   ]
  },
  {
   "cell_type": "code",
   "execution_count": null,
   "id": "37806e6b-7c9d-4055-967c-c0f9e3e946c1",
   "metadata": {},
   "outputs": [],
   "source": []
  }
 ],
 "metadata": {
  "kernelspec": {
   "display_name": "Python 3 (ipykernel)",
   "language": "python",
   "name": "python3"
  },
  "language_info": {
   "codemirror_mode": {
    "name": "ipython",
    "version": 3
   },
   "file_extension": ".py",
   "mimetype": "text/x-python",
   "name": "python",
   "nbconvert_exporter": "python",
   "pygments_lexer": "ipython3",
   "version": "3.8.12"
  }
 },
 "nbformat": 4,
 "nbformat_minor": 5
}
