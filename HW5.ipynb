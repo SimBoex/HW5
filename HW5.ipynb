{
 "cells": [
  {
   "cell_type": "code",
   "execution_count": 1,
   "id": "600a42f7-f097-497c-bba6-64c68e714c1f",
   "metadata": {},
   "outputs": [],
   "source": [
    "import pandas as pd\n",
    "import networkx as nx\n",
    "import pickle "
   ]
  },
  {
   "cell_type": "markdown",
   "id": "64c02df5-a134-4583-a9d2-2ff22dff15e9",
   "metadata": {
    "tags": []
   },
   "source": [
    "# We can start creating the needed first graph"
   ]
  },
  {
   "cell_type": "code",
   "execution_count": null,
   "id": "ff2da5af-6c3c-44b7-bc8b-e96b34ec8337",
   "metadata": {},
   "outputs": [],
   "source": [
    "Recent_answers=answers[(answers['Date'] >= '2016-01-01') & (answers[\"Active_User\"] != answers[\"Passive_User\"])].copy()"
   ]
  },
  {
   "cell_type": "code",
   "execution_count": null,
   "id": "c5c1a90a-7b7d-4c91-9bef-49c2373f5df1",
   "metadata": {},
   "outputs": [],
   "source": [
    "Recent_answers.count()"
   ]
  },
  {
   "cell_type": "code",
   "execution_count": null,
   "id": "abb9db24-3987-4452-84b0-c980371d5939",
   "metadata": {},
   "outputs": [],
   "source": [
    "Recent_answers.isna().sum().sum()"
   ]
  },
  {
   "cell_type": "markdown",
   "id": "c5e209aa-16fb-4e58-89fa-f9d6fbb9b62b",
   "metadata": {},
   "source": [
    "I insert a column with the weight for each edge"
   ]
  },
  {
   "cell_type": "code",
   "execution_count": null,
   "id": "d0afce8b-4fef-4fb1-af37-b1611f9f84bb",
   "metadata": {},
   "outputs": [],
   "source": [
    "Recent_answers[\"weight\"]=1"
   ]
  },
  {
   "cell_type": "code",
   "execution_count": null,
   "id": "230387f1-02a9-49e4-bc19-2f527440e3b4",
   "metadata": {},
   "outputs": [],
   "source": [
    "Recent_answers.head()"
   ]
  },
  {
   "cell_type": "code",
   "execution_count": null,
   "id": "773a82b4-845d-411e-b27f-d7c224e06706",
   "metadata": {},
   "outputs": [],
   "source": [
    "Recent_answers.groupby([\"Active_User\",\"Passive_User\"]).count()"
   ]
  },
  {
   "cell_type": "code",
   "execution_count": null,
   "id": "d62ec2ea-acb5-4bcf-913e-4b82d91a2aeb",
   "metadata": {},
   "outputs": [],
   "source": [
    "g = nx.from_pandas_edgelist(Recent_answers, \"Active_User\", \"Passive_User\", edge_attr=True,edge_key=\"Date\",create_using=nx.MultiDiGraph())"
   ]
  },
  {
   "cell_type": "markdown",
   "id": "8c171c88-41b4-4bd4-acc2-4732a935006e",
   "metadata": {},
   "source": [
    "# loading the comments on questions"
   ]
  },
  {
   "cell_type": "code",
   "execution_count": null,
   "id": "17bb9f0e-5cae-47e1-90d8-ac47bc010e4b",
   "metadata": {},
   "outputs": [],
   "source": [
    "comments_onQuestions=pd.read_csv(\"/Users/simone/Desktop/sx-stackoverflow-c2q.txt\",sep=\" \",header=None,names=['Active_User', 'Passive_User', 'Date'])"
   ]
  },
  {
   "cell_type": "code",
   "execution_count": null,
   "id": "df01c777-34e0-49ae-9da1-b111bd38bfa9",
   "metadata": {},
   "outputs": [],
   "source": [
    "comments_onQuestions.head()"
   ]
  },
  {
   "cell_type": "code",
   "execution_count": null,
   "id": "2a6efc0c-04ab-42bc-9280-905bf90c1499",
   "metadata": {},
   "outputs": [],
   "source": [
    "comments_onQuestions.count()"
   ]
  },
  {
   "cell_type": "code",
   "execution_count": null,
   "id": "9ad243c1-ff01-407d-87d6-1135227cad19",
   "metadata": {},
   "outputs": [],
   "source": [
    "comments_onQuestions[\"Date\"]=pd.to_datetime(comments_onQuestions['Date'],unit='s')"
   ]
  },
  {
   "cell_type": "code",
   "execution_count": null,
   "id": "c1ac8aea-bddc-470a-9bb1-8208bb84e6f4",
   "metadata": {},
   "outputs": [],
   "source": [
    "comments_onQuestions.head()"
   ]
  },
  {
   "cell_type": "markdown",
   "id": "3c6630b5-8e0b-4b14-8208-87114f212643",
   "metadata": {},
   "source": [
    "Selecting only the most recent comments"
   ]
  },
  {
   "cell_type": "code",
   "execution_count": null,
   "id": "8973e972-1a2a-4d9f-a611-13b1fe0a64dc",
   "metadata": {},
   "outputs": [],
   "source": [
    "Recent_comments_onQuestions=comments_onQuestions[(comments_onQuestions['Date'] >= '2016-01-01') & (comments_onQuestions[\"Active_User\"] != comments_onQuestions[\"Passive_User\"])].copy()"
   ]
  },
  {
   "cell_type": "code",
   "execution_count": null,
   "id": "2bcc4e26-d328-4f8f-b514-656f2f30fb6e",
   "metadata": {},
   "outputs": [],
   "source": [
    "Recent_answers.isna().sum().sum()"
   ]
  },
  {
   "cell_type": "markdown",
   "id": "e729137c-b4e5-4e2a-97e4-d224bc75186b",
   "metadata": {},
   "source": [
    "we insert a column to add the weight to each edge"
   ]
  },
  {
   "cell_type": "code",
   "execution_count": null,
   "id": "30220a65-b221-4c3f-9a23-f79640b22e26",
   "metadata": {},
   "outputs": [],
   "source": [
    "Recent_comments_onQuestions[\"weight\"]=0.4"
   ]
  },
  {
   "cell_type": "code",
   "execution_count": null,
   "id": "69de915b-721b-4e5e-9da9-64e643453e6b",
   "metadata": {},
   "outputs": [],
   "source": [
    "Recent_comments_onQuestions.head()"
   ]
  },
  {
   "cell_type": "code",
   "execution_count": null,
   "id": "fae952e6-c04b-497c-b647-5f8299fa46c6",
   "metadata": {},
   "outputs": [],
   "source": [
    "Recent_comments_onQuestions.count()"
   ]
  },
  {
   "cell_type": "code",
   "execution_count": null,
   "id": "07abe27f-7027-403b-8de5-13808fb68f03",
   "metadata": {},
   "outputs": [],
   "source": [
    "g2 = nx.from_pandas_edgelist(Recent_comments_onQuestions, \"Active_User\", \"Passive_User\", edge_attr=True,edge_key=\"Date\",create_using=nx.MultiGraph())"
   ]
  },
  {
   "cell_type": "code",
   "execution_count": null,
   "id": "b76b4bed-2a1a-42ee-b11e-97de914faa97",
   "metadata": {},
   "outputs": [],
   "source": [
    "[(n, nbrdict) for n, nbrdict in g.adjacency()]"
   ]
  },
  {
   "cell_type": "code",
   "execution_count": null,
   "id": "5f1a02c5-b73e-4876-8297-bdb1dbd901f2",
   "metadata": {},
   "outputs": [],
   "source": [
    "Recent_answers.isna().sum().sum()"
   ]
  },
  {
   "cell_type": "markdown",
   "id": "bc9f4d29-8520-40fa-8bb4-4be77ac00481",
   "metadata": {},
   "source": [
    "# combining the multi-graph using the networkx library"
   ]
  },
  {
   "cell_type": "code",
   "execution_count": null,
   "id": "c09f6777-2b8e-446a-9ec9-1cfd0e495f72",
   "metadata": {},
   "outputs": [],
   "source": [
    "G = nx.compose(g,g2)"
   ]
  },
  {
   "cell_type": "code",
   "execution_count": null,
   "id": "fd902b49-70a6-4d96-9ddb-97a7bbade38a",
   "metadata": {},
   "outputs": [],
   "source": [
    "[(n, nbrdict) for n, nbrdict in g.adjacency()]"
   ]
  },
  {
   "cell_type": "markdown",
   "id": "2ec9f433-57af-4ce1-9348-fe0c935c5de8",
   "metadata": {},
   "source": [
    "loading all the comments on answers"
   ]
  },
  {
   "cell_type": "code",
   "execution_count": null,
   "id": "c15b1d23-9075-49b4-93fa-fff91a77f1ef",
   "metadata": {},
   "outputs": [],
   "source": [
    "comments_onAnswers=pd.read_csv(\"/Users/simone/Desktop/sx-stackoverflow-c2a.txt\",sep=\" \",header=None,names=['Active_User', 'Passive_User', 'Date'])"
   ]
  },
  {
   "cell_type": "code",
   "execution_count": null,
   "id": "6b909dca-9e84-4500-ba1d-941efb8c1987",
   "metadata": {},
   "outputs": [],
   "source": [
    "comments_onAnswers.head()"
   ]
  },
  {
   "cell_type": "code",
   "execution_count": null,
   "id": "5d67b41c-7a4d-4671-9d95-796936d228a7",
   "metadata": {},
   "outputs": [],
   "source": [
    "comments_onAnswers[\"Date\"]=pd.to_datetime(comments_onAnswers['Date'],unit='s')"
   ]
  },
  {
   "cell_type": "code",
   "execution_count": null,
   "id": "701e54ef-1733-4a4a-bcdd-ebb7fee16360",
   "metadata": {},
   "outputs": [],
   "source": [
    "comments_onAnswers.head()"
   ]
  },
  {
   "cell_type": "markdown",
   "id": "43eb3a7c-6501-47cf-b9a3-1ea0a2840c2a",
   "metadata": {},
   "source": [
    "Selecting only the most recent comments"
   ]
  },
  {
   "cell_type": "code",
   "execution_count": null,
   "id": "bc45dc04-022b-43ab-be6f-0b7640aada5d",
   "metadata": {},
   "outputs": [],
   "source": [
    "Recent_comments_onAnswers=comments_onAnswers[(comments_onAnswers['Date'] >= '2016-01-01') & (comments_onAnswers[\"Active_User\"] != comments_onAnswers[\"Passive_User\"])].copy()"
   ]
  },
  {
   "cell_type": "code",
   "execution_count": null,
   "id": "93ee7f37-9b91-48a1-aff3-eab817b8cdb8",
   "metadata": {},
   "outputs": [],
   "source": [
    "Recent_comments_onAnswers.head()"
   ]
  },
  {
   "cell_type": "code",
   "execution_count": null,
   "id": "8360472f-58cd-419d-bc69-b086ac5538cf",
   "metadata": {},
   "outputs": [],
   "source": [
    "Recent_comments_onAnswers[\"weight\"]=0.6"
   ]
  },
  {
   "cell_type": "code",
   "execution_count": null,
   "id": "b5ed24e6-d766-48b9-80b0-bc7011e5f64a",
   "metadata": {},
   "outputs": [],
   "source": [
    "Recent_comments_onAnswers.head()"
   ]
  },
  {
   "cell_type": "code",
   "execution_count": null,
   "id": "cc6c7a89-a7f9-46d4-aa08-7987f972d710",
   "metadata": {},
   "outputs": [],
   "source": [
    "Recent_comments_onAnswers.count()"
   ]
  },
  {
   "cell_type": "code",
   "execution_count": null,
   "id": "3a1daa6f-e93d-4838-a364-846ebc1b3366",
   "metadata": {},
   "outputs": [],
   "source": [
    "g3 = nx.from_pandas_edgelist(Recent_comments_onAnswers, \"Active_User\", \"Passive_User\", edge_attr=True,edge_key=\"Date\",create_using=nx.MultiGraph())"
   ]
  },
  {
   "cell_type": "code",
   "execution_count": null,
   "id": "18545c95-6221-426c-be6d-32ee1a936d65",
   "metadata": {},
   "outputs": [],
   "source": []
  },
  {
   "cell_type": "markdown",
   "id": "7ad945cd-fb75-473d-983e-49f852067dea",
   "metadata": {},
   "source": [
    "combining the multi-graph using the networkx library"
   ]
  },
  {
   "cell_type": "code",
   "execution_count": null,
   "id": "bc2a62b1-ccde-4b52-9e55-bc8602bafed5",
   "metadata": {},
   "outputs": [],
   "source": [
    "final_G = nx.compose(g3,G)"
   ]
  },
  {
   "cell_type": "code",
   "execution_count": null,
   "id": "63f0fcdf-b156-4072-b5e4-d20c8d032ad3",
   "metadata": {},
   "outputs": [],
   "source": [
    "pickle.dump(final_G, open('final_G', 'wb'))"
   ]
  },
  {
   "cell_type": "code",
   "execution_count": null,
   "id": "4546b9c3-9931-4d0a-b312-533f4ba99b65",
   "metadata": {},
   "outputs": [],
   "source": [
    "pickle.dump(g3, open('Recent_comments_onAnswers', 'wb'))"
   ]
  },
  {
   "cell_type": "code",
   "execution_count": null,
   "id": "dd7eca39-15e8-48e1-a209-d780611203b8",
   "metadata": {},
   "outputs": [],
   "source": [
    "pickle.dump(g, open('Recent_answers', 'wb'))"
   ]
  },
  {
   "cell_type": "code",
   "execution_count": null,
   "id": "44c5a196-8d9c-48d0-a4fa-dbffa0338a26",
   "metadata": {},
   "outputs": [],
   "source": [
    "pickle.dump(g2, open('Recent_comments_onQuestions', 'wb'))"
   ]
  },
  {
   "cell_type": "markdown",
   "id": "e3cd62b7-6f08-4e46-b460-79f34987c91a",
   "metadata": {},
   "source": [
    "# EX 2.3"
   ]
  },
  {
   "cell_type": "markdown",
   "id": "a0812aa4-d22d-474b-90c7-6e256ef8341f",
   "metadata": {},
   "source": [
    "Now since we are interested in the shortest walk path, we modify our graph, we make it a simple graph with interactions that happend in our desired interval, no more a multigraph.\n",
    "we decided to do this because for this exercise we are interested only at the edge with the smallest weight between 2 node.\n",
    "And so we create this graph for each interval of time that we need to look for."
   ]
  },
  {
   "cell_type": "markdown",
   "id": "e38f8745-837c-407b-b513-08ea3cd87655",
   "metadata": {},
   "source": [
    "Also we decided to rename the nodes with numbers from 0 to n with n that is equal to the number of nodes"
   ]
  },
  {
   "cell_type": "code",
   "execution_count": 12,
   "id": "1caa7ba5-aa76-4720-9d72-ea511b4a34ea",
   "metadata": {},
   "outputs": [],
   "source": [
    "import numpy as np\n",
    "from heapq import heapify, heappush, heappop\n",
    "from utils import first,path,check,dijkstra,new_graph,traceback,maps\n"
   ]
  },
  {
   "cell_type": "markdown",
   "id": "47fb5a31-e035-4407-9e50-15cdf0c262c6",
   "metadata": {},
   "source": [
    "We load the graph"
   ]
  },
  {
   "cell_type": "code",
   "execution_count": 3,
   "id": "54f4d0ef-f264-4e60-8354-0f1364d6dc04",
   "metadata": {},
   "outputs": [],
   "source": [
    "# Load graph\n",
    "with open(\"/Users/simone/Desktop/final_G\", 'rb') as f: \n",
    "    G_loaded = pickle.load(f)"
   ]
  },
  {
   "cell_type": "markdown",
   "id": "b2f835c3-47bf-4f81-93f4-7c07ba1d1358",
   "metadata": {},
   "source": [
    "we rename the graph and we find randomly a sequence of nodes"
   ]
  },
  {
   "cell_type": "code",
   "execution_count": 4,
   "id": "3ce46106-2c64-4801-bdda-812864305416",
   "metadata": {},
   "outputs": [],
   "source": [
    "dg,index=first(G_loaded)"
   ]
  },
  {
   "cell_type": "markdown",
   "id": "63556a01-042f-4a26-9ffa-84e69ee3f75e",
   "metadata": {},
   "source": [
    "we create the timestamps and launch the function"
   ]
  },
  {
   "cell_type": "code",
   "execution_count": 7,
   "id": "64545b5e-90fd-4c1e-98a3-1e807cdee25f",
   "metadata": {},
   "outputs": [],
   "source": [
    "startingTime=pd.to_datetime('2016-01-01')\n",
    "endTime=pd.to_datetime('2017-01-07')"
   ]
  },
  {
   "cell_type": "code",
   "execution_count": null,
   "id": "f36de467-ef06-4205-8e7d-bafcf416e115",
   "metadata": {},
   "outputs": [
    {
     "name": "stdout",
     "output_type": "stream",
     "text": [
      "booo\n",
      "the path is  [(0, 334630), (334630, 152746), (152746, 242244), (242244, 158203), (158203, 241646), (241646, 376151), (376151, 190)]\n",
      "0\n",
      "Final_distance between 0 and 334630  3.0\n",
      "[0, 645, 5983, 98292, 183761, 334630]\n",
      "334630\n",
      "there isn't a path between this 2 values 334630 and 152746\n"
     ]
    }
   ],
   "source": [
    "path(0,190,index,dg,startingTime,endTime)"
   ]
  },
  {
   "cell_type": "markdown",
   "id": "0977a053-5853-416a-9c9f-651f7ac825cf",
   "metadata": {},
   "source": [
    "we check the results"
   ]
  },
  {
   "cell_type": "code",
   "execution_count": null,
   "id": "34e65545-a8bd-46b4-96f2-9521f5189546",
   "metadata": {
    "scrolled": true,
    "tags": []
   },
   "outputs": [],
   "source": [
    "check(dg,0,190776,startingTime,endTime,7)"
   ]
  },
  {
   "cell_type": "markdown",
   "id": "0e3047df-77de-4765-b1a2-42b87e5b1fb9",
   "metadata": {},
   "source": [
    "we do another example"
   ]
  },
  {
   "cell_type": "markdown",
   "id": "e3fb9998-32f5-48d3-9e31-eca23e505c12",
   "metadata": {},
   "source": [
    "we create the timestamps"
   ]
  },
  {
   "cell_type": "code",
   "execution_count": 8,
   "id": "bcb973c1-94d0-4e52-b79c-5ae804b208ed",
   "metadata": {},
   "outputs": [],
   "source": [
    "startingTime=pd.to_datetime('2016-01-01')\n",
    "endTime=pd.to_datetime('2018-01-01')"
   ]
  },
  {
   "cell_type": "markdown",
   "id": "97661245-1378-4300-8d4b-fb8dbf3c9d08",
   "metadata": {},
   "source": [
    "we create the random path and we preprocess the graph"
   ]
  },
  {
   "cell_type": "code",
   "execution_count": null,
   "id": "c7f1ae8e-72ce-451b-b11c-9e4779f63b08",
   "metadata": {},
   "outputs": [],
   "source": [
    "dg,index=first(G_loaded)"
   ]
  },
  {
   "cell_type": "markdown",
   "id": "d8b2ebc0-9ed6-4b67-ab67-5e6edb5e7f16",
   "metadata": {},
   "source": [
    "However this time, i want to choose a path "
   ]
  },
  {
   "cell_type": "code",
   "execution_count": 5,
   "id": "59a3ebfb-2bcc-4209-b339-eaf3a491b7c8",
   "metadata": {},
   "outputs": [],
   "source": [
    "index= [645, 1363, 14386, 85594]"
   ]
  },
  {
   "cell_type": "code",
   "execution_count": 6,
   "id": "281e92bd-70ee-4d7c-9cc1-2b206fe30a33",
   "metadata": {
    "scrolled": true,
    "tags": []
   },
   "outputs": [
    {
     "name": "stdout",
     "output_type": "stream",
     "text": [
      "booo\n",
      "the path is  [(0, 645), (645, 1363), (1363, 14386), (14386, 85594), (85594, 190776)]\n",
      "0\n",
      "Final_distance between 0 and 645  0.4\n",
      "[0, 645]\n",
      "645\n",
      "Final_distance between 645 and 1363  0.6\n",
      "[645, 1363]\n",
      "1363\n",
      "Final_distance between 1363 and 14386  0.4\n",
      "[1363, 14386]\n",
      "14386\n",
      "Final_distance between 14386 and 85594  0.4\n",
      "[14386, 85594]\n",
      "85594\n",
      "Final_distance between 85594 and 190776  1.0\n",
      "[85594, 190776]\n"
     ]
    },
    {
     "data": {
      "text/plain": [
       "[0, 645, 1363, 14386, 85594, 190776]"
      ]
     },
     "execution_count": 6,
     "metadata": {},
     "output_type": "execute_result"
    }
   ],
   "source": [
    "path(0,190776,index,dg,startingTime,endTime)"
   ]
  },
  {
   "cell_type": "markdown",
   "id": "0ba468b6-7d16-45ac-a2aa-399dfe0ca294",
   "metadata": {},
   "source": [
    "# Functionality 4"
   ]
  },
  {
   "cell_type": "markdown",
   "id": "9d8da0f0-3df5-4319-b198-24044798ec6e",
   "metadata": {},
   "source": [
    "we create the timestamps to select the intervals"
   ]
  },
  {
   "cell_type": "code",
   "execution_count": 22,
   "id": "583779af-99cd-4392-be6e-3b6b373593fd",
   "metadata": {},
   "outputs": [],
   "source": [
    "startingTime1=pd.to_datetime('2016-01-01')\n",
    "endTime1=pd.to_datetime('2016-01-03')\n",
    "startingTime2=pd.to_datetime('2016-01-04')\n",
    "endTime2=pd.to_datetime('2017-01-03')\n",
    "\n",
    "startingTime=pd.to_datetime('2016-01-01')\n",
    "endTime=pd.to_datetime('2018-01-03')"
   ]
  },
  {
   "cell_type": "markdown",
   "id": "d1c7b0f8-a244-4e6c-a22e-19f4f9caf17d",
   "metadata": {},
   "source": [
    "first there is the step where we rename the nodes (we use the same function used for implementing djkstra)"
   ]
  },
  {
   "cell_type": "code",
   "execution_count": 23,
   "id": "04536e26-d181-4c42-91bd-51ff866ba657",
   "metadata": {},
   "outputs": [],
   "source": [
    "dg,mapping=maps(G_loaded)"
   ]
  },
  {
   "cell_type": "markdown",
   "id": "da716c84-22aa-463a-9c73-f13b3df74d7c",
   "metadata": {},
   "source": [
    "now we preprocess the saved multidigraph, also in this case it's better to keep only the edge between two nodes with the smaller weight.\n",
    "So, we decided to make it a simple direct graph with edges that are interactions that happend during an interval of time"
   ]
  },
  {
   "cell_type": "code",
   "execution_count": 24,
   "id": "6262ed9f-2013-47e6-81d8-48a2091bace2",
   "metadata": {},
   "outputs": [],
   "source": [
    "g=new_graph(dg,startingTime,endTime)"
   ]
  },
  {
   "cell_type": "markdown",
   "id": "0329e496-4668-4009-ac1d-5f9a845d0cec",
   "metadata": {},
   "source": [
    "Now i find the two users that i need"
   ]
  },
  {
   "cell_type": "code",
   "execution_count": null,
   "id": "9c6ef068-3d51-47e5-b600-b0f785957db8",
   "metadata": {},
   "outputs": [],
   "source": [
    "user1,user2=findUser(startingTime1,endTime1,startingTime2,endTime1,dg)"
   ]
  },
  {
   "cell_type": "code",
   "execution_count": 20,
   "id": "1e4609b6-9ef6-4a4d-871b-65c461071121",
   "metadata": {},
   "outputs": [],
   "source": [
    "#it finds two users that are not in the same interval of time\n",
    "def findUser(t1,t2,s1,s2,G):\n",
    "    g1=new_graph(G,startingTime,endTime)\n",
    "    g2=new_graph(G,startingTime,endTime)\n",
    "    set1=set(g1.nodes())\n",
    "    set2=set(g2.nodes())\n",
    "    oneS=set1-set2\n",
    "    twoS=set2-set1\n",
    "    user1=oneS.pop()\n",
    "    user2=twoS.pop()\n",
    "    return user1,user2"
   ]
  },
  {
   "cell_type": "code",
   "execution_count": null,
   "id": "3a70a245-d417-484e-bcfa-3966cb17142c",
   "metadata": {},
   "outputs": [],
   "source": []
  },
  {
   "cell_type": "code",
   "execution_count": 8,
   "id": "195a6061-5348-4661-b6a3-e199c108376d",
   "metadata": {},
   "outputs": [],
   "source": [
    "#it computes the number of edges we need to remove( considering their weights)\n",
    "def Min_cut(G,user1,user2,startingTime,endTime):\n",
    "    G=new_graph(G,startingTime,endTime)\n",
    "    cost=0\n",
    "    while path:\n",
    "        pred=dijkstra(user1,user2,G,startingTime,endTime)\n",
    "        if pred[user2]==np.inf:\n",
    "            return cost\n",
    "        l=traceback(pred,user2,user1)\n",
    "        edge=find_min(l)\n",
    "        diz=dG.get_edge_data(edge)\n",
    "        cost+=diz[\"weight\"]\n",
    "        G.remove_edge(edge)\n",
    "    return cost"
   ]
  },
  {
   "cell_type": "code",
   "execution_count": null,
   "id": "dbdff6cc-bbb6-49d5-a2f8-0b7a083dfbab",
   "metadata": {},
   "outputs": [],
   "source": []
  }
 ],
 "metadata": {
  "kernelspec": {
   "display_name": "Python 3 (ipykernel)",
   "language": "python",
   "name": "python3"
  },
  "language_info": {
   "codemirror_mode": {
    "name": "ipython",
    "version": 3
   },
   "file_extension": ".py",
   "mimetype": "text/x-python",
   "name": "python",
   "nbconvert_exporter": "python",
   "pygments_lexer": "ipython3",
   "version": "3.8.12"
  }
 },
 "nbformat": 4,
 "nbformat_minor": 5
}
