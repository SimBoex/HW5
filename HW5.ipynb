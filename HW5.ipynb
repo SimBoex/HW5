{
 "cells": [
  {
   "cell_type": "code",
   "execution_count": 1,
   "id": "600a42f7-f097-497c-bba6-64c68e714c1f",
   "metadata": {},
   "outputs": [],
   "source": [
    "import pandas as pd\n",
    "import networkx as nx"
   ]
  },
  {
   "cell_type": "markdown",
   "id": "8f6a73ae-6d31-4d33-bc80-699f2e703dfe",
   "metadata": {},
   "source": [
    "# Let's start creating a subgraph using one of the three files"
   ]
  },
  {
   "cell_type": "markdown",
   "id": "61777d92-50b4-40f0-a212-b1a86c46b181",
   "metadata": {},
   "source": [
    "loading all the Answers to questions file"
   ]
  },
  {
   "cell_type": "code",
   "execution_count": 2,
   "id": "9df2636a-cd7e-4d47-a232-f22c23578fa9",
   "metadata": {},
   "outputs": [],
   "source": [
    "answers=pd.read_csv(\"/Users/simone/Desktop/sx-stackoverflow-a2q.txt\",sep=\" \",header=None,names=['Active_User', 'Passive_User', 'Date'])"
   ]
  },
  {
   "cell_type": "code",
   "execution_count": 3,
   "id": "02ea277a-6686-403b-aacc-7ce0cccdcec6",
   "metadata": {},
   "outputs": [
    {
     "data": {
      "text/html": [
       "<div>\n",
       "<style scoped>\n",
       "    .dataframe tbody tr th:only-of-type {\n",
       "        vertical-align: middle;\n",
       "    }\n",
       "\n",
       "    .dataframe tbody tr th {\n",
       "        vertical-align: top;\n",
       "    }\n",
       "\n",
       "    .dataframe thead th {\n",
       "        text-align: right;\n",
       "    }\n",
       "</style>\n",
       "<table border=\"1\" class=\"dataframe\">\n",
       "  <thead>\n",
       "    <tr style=\"text-align: right;\">\n",
       "      <th></th>\n",
       "      <th>Active_User</th>\n",
       "      <th>Passive_User</th>\n",
       "      <th>Date</th>\n",
       "    </tr>\n",
       "  </thead>\n",
       "  <tbody>\n",
       "    <tr>\n",
       "      <th>0</th>\n",
       "      <td>9</td>\n",
       "      <td>8</td>\n",
       "      <td>1217567877</td>\n",
       "    </tr>\n",
       "    <tr>\n",
       "      <th>1</th>\n",
       "      <td>1</td>\n",
       "      <td>1</td>\n",
       "      <td>1217573801</td>\n",
       "    </tr>\n",
       "    <tr>\n",
       "      <th>2</th>\n",
       "      <td>13</td>\n",
       "      <td>1</td>\n",
       "      <td>1217606247</td>\n",
       "    </tr>\n",
       "    <tr>\n",
       "      <th>3</th>\n",
       "      <td>17</td>\n",
       "      <td>1</td>\n",
       "      <td>1217617639</td>\n",
       "    </tr>\n",
       "    <tr>\n",
       "      <th>4</th>\n",
       "      <td>48</td>\n",
       "      <td>2</td>\n",
       "      <td>1217618182</td>\n",
       "    </tr>\n",
       "  </tbody>\n",
       "</table>\n",
       "</div>"
      ],
      "text/plain": [
       "   Active_User  Passive_User        Date\n",
       "0            9             8  1217567877\n",
       "1            1             1  1217573801\n",
       "2           13             1  1217606247\n",
       "3           17             1  1217617639\n",
       "4           48             2  1217618182"
      ]
     },
     "execution_count": 3,
     "metadata": {},
     "output_type": "execute_result"
    }
   ],
   "source": [
    "answers.head()"
   ]
  },
  {
   "cell_type": "code",
   "execution_count": 4,
   "id": "1bc56fa3-3552-4fbc-b779-6c83796f5a7e",
   "metadata": {},
   "outputs": [],
   "source": [
    "answers[\"Date\"]=pd.to_datetime(answers['Date'],unit='s')"
   ]
  },
  {
   "cell_type": "code",
   "execution_count": 5,
   "id": "aeb30aa7-601b-498a-be14-cae0499185a1",
   "metadata": {},
   "outputs": [
    {
     "data": {
      "text/html": [
       "<div>\n",
       "<style scoped>\n",
       "    .dataframe tbody tr th:only-of-type {\n",
       "        vertical-align: middle;\n",
       "    }\n",
       "\n",
       "    .dataframe tbody tr th {\n",
       "        vertical-align: top;\n",
       "    }\n",
       "\n",
       "    .dataframe thead th {\n",
       "        text-align: right;\n",
       "    }\n",
       "</style>\n",
       "<table border=\"1\" class=\"dataframe\">\n",
       "  <thead>\n",
       "    <tr style=\"text-align: right;\">\n",
       "      <th></th>\n",
       "      <th>Active_User</th>\n",
       "      <th>Passive_User</th>\n",
       "      <th>Date</th>\n",
       "    </tr>\n",
       "  </thead>\n",
       "  <tbody>\n",
       "    <tr>\n",
       "      <th>0</th>\n",
       "      <td>9</td>\n",
       "      <td>8</td>\n",
       "      <td>2008-08-01 05:17:57</td>\n",
       "    </tr>\n",
       "    <tr>\n",
       "      <th>1</th>\n",
       "      <td>1</td>\n",
       "      <td>1</td>\n",
       "      <td>2008-08-01 06:56:41</td>\n",
       "    </tr>\n",
       "    <tr>\n",
       "      <th>2</th>\n",
       "      <td>13</td>\n",
       "      <td>1</td>\n",
       "      <td>2008-08-01 15:57:27</td>\n",
       "    </tr>\n",
       "    <tr>\n",
       "      <th>3</th>\n",
       "      <td>17</td>\n",
       "      <td>1</td>\n",
       "      <td>2008-08-01 19:07:19</td>\n",
       "    </tr>\n",
       "    <tr>\n",
       "      <th>4</th>\n",
       "      <td>48</td>\n",
       "      <td>2</td>\n",
       "      <td>2008-08-01 19:16:22</td>\n",
       "    </tr>\n",
       "  </tbody>\n",
       "</table>\n",
       "</div>"
      ],
      "text/plain": [
       "   Active_User  Passive_User                Date\n",
       "0            9             8 2008-08-01 05:17:57\n",
       "1            1             1 2008-08-01 06:56:41\n",
       "2           13             1 2008-08-01 15:57:27\n",
       "3           17             1 2008-08-01 19:07:19\n",
       "4           48             2 2008-08-01 19:16:22"
      ]
     },
     "execution_count": 5,
     "metadata": {},
     "output_type": "execute_result"
    }
   ],
   "source": [
    "answers.head()"
   ]
  },
  {
   "cell_type": "markdown",
   "id": "ebb0701f-e83c-4717-abc0-fa18b163e08e",
   "metadata": {},
   "source": [
    "Select only the most recent dates "
   ]
  },
  {
   "cell_type": "code",
   "execution_count": 6,
   "id": "2aae3bcc-2664-4ac0-a8bf-5facd043f2bf",
   "metadata": {},
   "outputs": [
    {
     "data": {
      "text/html": [
       "<div>\n",
       "<style scoped>\n",
       "    .dataframe tbody tr th:only-of-type {\n",
       "        vertical-align: middle;\n",
       "    }\n",
       "\n",
       "    .dataframe tbody tr th {\n",
       "        vertical-align: top;\n",
       "    }\n",
       "\n",
       "    .dataframe thead th {\n",
       "        text-align: right;\n",
       "    }\n",
       "</style>\n",
       "<table border=\"1\" class=\"dataframe\">\n",
       "  <thead>\n",
       "    <tr style=\"text-align: right;\">\n",
       "      <th></th>\n",
       "      <th>Active_User</th>\n",
       "      <th>Passive_User</th>\n",
       "      <th>Date</th>\n",
       "    </tr>\n",
       "  </thead>\n",
       "  <tbody>\n",
       "    <tr>\n",
       "      <th>17823520</th>\n",
       "      <td>2773607</td>\n",
       "      <td>1048138</td>\n",
       "      <td>2016-03-06 12:16:21</td>\n",
       "    </tr>\n",
       "    <tr>\n",
       "      <th>17823521</th>\n",
       "      <td>6018278</td>\n",
       "      <td>1982354</td>\n",
       "      <td>2016-03-06 12:16:29</td>\n",
       "    </tr>\n",
       "    <tr>\n",
       "      <th>17823522</th>\n",
       "      <td>3187183</td>\n",
       "      <td>1404306</td>\n",
       "      <td>2016-03-06 12:17:30</td>\n",
       "    </tr>\n",
       "    <tr>\n",
       "      <th>17823523</th>\n",
       "      <td>6022341</td>\n",
       "      <td>1667278</td>\n",
       "      <td>2016-03-06 12:17:40</td>\n",
       "    </tr>\n",
       "    <tr>\n",
       "      <th>17823524</th>\n",
       "      <td>6018304</td>\n",
       "      <td>6024256</td>\n",
       "      <td>2016-03-06 12:18:13</td>\n",
       "    </tr>\n",
       "  </tbody>\n",
       "</table>\n",
       "</div>"
      ],
      "text/plain": [
       "          Active_User  Passive_User                Date\n",
       "17823520      2773607       1048138 2016-03-06 12:16:21\n",
       "17823521      6018278       1982354 2016-03-06 12:16:29\n",
       "17823522      3187183       1404306 2016-03-06 12:17:30\n",
       "17823523      6022341       1667278 2016-03-06 12:17:40\n",
       "17823524      6018304       6024256 2016-03-06 12:18:13"
      ]
     },
     "execution_count": 6,
     "metadata": {},
     "output_type": "execute_result"
    }
   ],
   "source": [
    "answers.tail()"
   ]
  },
  {
   "cell_type": "code",
   "execution_count": 7,
   "id": "8d00973b-47f3-4137-965c-d7bbbfd3ab64",
   "metadata": {},
   "outputs": [],
   "source": [
    "Recent_answers=answers[(answers['Date'] >= '2016-01-01') & (answers[\"Active_User\"] != answers[\"Passive_User\"])]"
   ]
  },
  {
   "cell_type": "code",
   "execution_count": 8,
   "id": "47785563-9fdf-478b-b10d-bda170d8d353",
   "metadata": {},
   "outputs": [
    {
     "data": {
      "text/html": [
       "<div>\n",
       "<style scoped>\n",
       "    .dataframe tbody tr th:only-of-type {\n",
       "        vertical-align: middle;\n",
       "    }\n",
       "\n",
       "    .dataframe tbody tr th {\n",
       "        vertical-align: top;\n",
       "    }\n",
       "\n",
       "    .dataframe thead th {\n",
       "        text-align: right;\n",
       "    }\n",
       "</style>\n",
       "<table border=\"1\" class=\"dataframe\">\n",
       "  <thead>\n",
       "    <tr style=\"text-align: right;\">\n",
       "      <th></th>\n",
       "      <th></th>\n",
       "      <th>Date</th>\n",
       "    </tr>\n",
       "    <tr>\n",
       "      <th>Active_User</th>\n",
       "      <th>Passive_User</th>\n",
       "      <th></th>\n",
       "    </tr>\n",
       "  </thead>\n",
       "  <tbody>\n",
       "    <tr>\n",
       "      <th rowspan=\"5\" valign=\"top\">13</th>\n",
       "      <th>45843</th>\n",
       "      <td>1</td>\n",
       "    </tr>\n",
       "    <tr>\n",
       "      <th>411103</th>\n",
       "      <td>1</td>\n",
       "    </tr>\n",
       "    <tr>\n",
       "      <th>633183</th>\n",
       "      <td>1</td>\n",
       "    </tr>\n",
       "    <tr>\n",
       "      <th>761118</th>\n",
       "      <td>1</td>\n",
       "    </tr>\n",
       "    <tr>\n",
       "      <th>1079641</th>\n",
       "      <td>1</td>\n",
       "    </tr>\n",
       "    <tr>\n",
       "      <th>...</th>\n",
       "      <th>...</th>\n",
       "      <td>...</td>\n",
       "    </tr>\n",
       "    <tr>\n",
       "      <th>6024128</th>\n",
       "      <th>2072724</th>\n",
       "      <td>1</td>\n",
       "    </tr>\n",
       "    <tr>\n",
       "      <th>6024148</th>\n",
       "      <th>1001994</th>\n",
       "      <td>1</td>\n",
       "    </tr>\n",
       "    <tr>\n",
       "      <th>6024168</th>\n",
       "      <th>5753950</th>\n",
       "      <td>1</td>\n",
       "    </tr>\n",
       "    <tr>\n",
       "      <th>6024228</th>\n",
       "      <th>6024201</th>\n",
       "      <td>1</td>\n",
       "    </tr>\n",
       "    <tr>\n",
       "      <th>6024236</th>\n",
       "      <th>5644064</th>\n",
       "      <td>1</td>\n",
       "    </tr>\n",
       "  </tbody>\n",
       "</table>\n",
       "<p>534761 rows × 1 columns</p>\n",
       "</div>"
      ],
      "text/plain": [
       "                          Date\n",
       "Active_User Passive_User      \n",
       "13          45843            1\n",
       "            411103           1\n",
       "            633183           1\n",
       "            761118           1\n",
       "            1079641          1\n",
       "...                        ...\n",
       "6024128     2072724          1\n",
       "6024148     1001994          1\n",
       "6024168     5753950          1\n",
       "6024228     6024201          1\n",
       "6024236     5644064          1\n",
       "\n",
       "[534761 rows x 1 columns]"
      ]
     },
     "execution_count": 8,
     "metadata": {},
     "output_type": "execute_result"
    }
   ],
   "source": [
    "Recent_answers.groupby([\"Active_User\",\"Passive_User\"]).count()"
   ]
  },
  {
   "cell_type": "code",
   "execution_count": 9,
   "id": "ae99622a-0058-4c7e-b739-7ca3062e08f8",
   "metadata": {},
   "outputs": [
    {
     "data": {
      "text/html": [
       "<div>\n",
       "<style scoped>\n",
       "    .dataframe tbody tr th:only-of-type {\n",
       "        vertical-align: middle;\n",
       "    }\n",
       "\n",
       "    .dataframe tbody tr th {\n",
       "        vertical-align: top;\n",
       "    }\n",
       "\n",
       "    .dataframe thead th {\n",
       "        text-align: right;\n",
       "    }\n",
       "</style>\n",
       "<table border=\"1\" class=\"dataframe\">\n",
       "  <thead>\n",
       "    <tr style=\"text-align: right;\">\n",
       "      <th></th>\n",
       "      <th></th>\n",
       "      <th>Date</th>\n",
       "    </tr>\n",
       "    <tr>\n",
       "      <th>Active_User</th>\n",
       "      <th>Passive_User</th>\n",
       "      <th></th>\n",
       "    </tr>\n",
       "  </thead>\n",
       "  <tbody>\n",
       "    <tr>\n",
       "      <th>13</th>\n",
       "      <th>45843</th>\n",
       "      <td>1</td>\n",
       "    </tr>\n",
       "    <tr>\n",
       "      <th rowspan=\"4\" valign=\"top\">3960021</th>\n",
       "      <th>5507913</th>\n",
       "      <td>1</td>\n",
       "    </tr>\n",
       "    <tr>\n",
       "      <th>4792564</th>\n",
       "      <td>1</td>\n",
       "    </tr>\n",
       "    <tr>\n",
       "      <th>4517922</th>\n",
       "      <td>1</td>\n",
       "    </tr>\n",
       "    <tr>\n",
       "      <th>4157666</th>\n",
       "      <td>1</td>\n",
       "    </tr>\n",
       "    <tr>\n",
       "      <th>...</th>\n",
       "      <th>...</th>\n",
       "      <td>...</td>\n",
       "    </tr>\n",
       "    <tr>\n",
       "      <th>1873365</th>\n",
       "      <th>1590389</th>\n",
       "      <td>12</td>\n",
       "    </tr>\n",
       "    <tr>\n",
       "      <th>217408</th>\n",
       "      <th>1404049</th>\n",
       "      <td>13</td>\n",
       "    </tr>\n",
       "    <tr>\n",
       "      <th>85785</th>\n",
       "      <th>2101226</th>\n",
       "      <td>13</td>\n",
       "    </tr>\n",
       "    <tr>\n",
       "      <th>771848</th>\n",
       "      <th>1096892</th>\n",
       "      <td>14</td>\n",
       "    </tr>\n",
       "    <tr>\n",
       "      <th>217408</th>\n",
       "      <th>2258442</th>\n",
       "      <td>19</td>\n",
       "    </tr>\n",
       "  </tbody>\n",
       "</table>\n",
       "<p>534761 rows × 1 columns</p>\n",
       "</div>"
      ],
      "text/plain": [
       "                          Date\n",
       "Active_User Passive_User      \n",
       "13          45843            1\n",
       "3960021     5507913          1\n",
       "            4792564          1\n",
       "            4517922          1\n",
       "            4157666          1\n",
       "...                        ...\n",
       "1873365     1590389         12\n",
       "217408      1404049         13\n",
       "85785       2101226         13\n",
       "771848      1096892         14\n",
       "217408      2258442         19\n",
       "\n",
       "[534761 rows x 1 columns]"
      ]
     },
     "execution_count": 9,
     "metadata": {},
     "output_type": "execute_result"
    }
   ],
   "source": [
    "(Recent_answers.groupby([\"Active_User\",\"Passive_User\"]).count()).sort_values(\"Date\")"
   ]
  },
  {
   "cell_type": "code",
   "execution_count": 10,
   "id": "9aa26c3f-e5c0-4ab2-b116-c0a7b5e27138",
   "metadata": {},
   "outputs": [
    {
     "data": {
      "text/html": [
       "<div>\n",
       "<style scoped>\n",
       "    .dataframe tbody tr th:only-of-type {\n",
       "        vertical-align: middle;\n",
       "    }\n",
       "\n",
       "    .dataframe tbody tr th {\n",
       "        vertical-align: top;\n",
       "    }\n",
       "\n",
       "    .dataframe thead th {\n",
       "        text-align: right;\n",
       "    }\n",
       "</style>\n",
       "<table border=\"1\" class=\"dataframe\">\n",
       "  <thead>\n",
       "    <tr style=\"text-align: right;\">\n",
       "      <th></th>\n",
       "      <th>Active_User</th>\n",
       "      <th>Passive_User</th>\n",
       "      <th>Date</th>\n",
       "    </tr>\n",
       "  </thead>\n",
       "  <tbody>\n",
       "    <tr>\n",
       "      <th>17226995</th>\n",
       "      <td>3877963</td>\n",
       "      <td>4606570</td>\n",
       "      <td>2016-01-01 00:00:01</td>\n",
       "    </tr>\n",
       "    <tr>\n",
       "      <th>17226996</th>\n",
       "      <td>3539722</td>\n",
       "      <td>2450821</td>\n",
       "      <td>2016-01-01 00:00:12</td>\n",
       "    </tr>\n",
       "    <tr>\n",
       "      <th>17226997</th>\n",
       "      <td>2502532</td>\n",
       "      <td>5248833</td>\n",
       "      <td>2016-01-01 00:00:45</td>\n",
       "    </tr>\n",
       "    <tr>\n",
       "      <th>17226998</th>\n",
       "      <td>3829407</td>\n",
       "      <td>5712246</td>\n",
       "      <td>2016-01-01 00:00:49</td>\n",
       "    </tr>\n",
       "    <tr>\n",
       "      <th>17226999</th>\n",
       "      <td>5199921</td>\n",
       "      <td>2130738</td>\n",
       "      <td>2016-01-01 00:00:54</td>\n",
       "    </tr>\n",
       "  </tbody>\n",
       "</table>\n",
       "</div>"
      ],
      "text/plain": [
       "          Active_User  Passive_User                Date\n",
       "17226995      3877963       4606570 2016-01-01 00:00:01\n",
       "17226996      3539722       2450821 2016-01-01 00:00:12\n",
       "17226997      2502532       5248833 2016-01-01 00:00:45\n",
       "17226998      3829407       5712246 2016-01-01 00:00:49\n",
       "17226999      5199921       2130738 2016-01-01 00:00:54"
      ]
     },
     "execution_count": 10,
     "metadata": {},
     "output_type": "execute_result"
    }
   ],
   "source": [
    "Recent_answers.head()"
   ]
  },
  {
   "cell_type": "code",
   "execution_count": 11,
   "id": "9bd97568-88d5-4eeb-9342-5020ada3962f",
   "metadata": {},
   "outputs": [
    {
     "data": {
      "text/plain": [
       "0"
      ]
     },
     "execution_count": 11,
     "metadata": {},
     "output_type": "execute_result"
    }
   ],
   "source": [
    "Recent_answers.isna().sum().sum()"
   ]
  },
  {
   "cell_type": "code",
   "execution_count": 12,
   "id": "09f79f13-1cb8-4e5c-b072-a88ef1f58959",
   "metadata": {},
   "outputs": [
    {
     "data": {
      "text/plain": [
       "Active_User     548450\n",
       "Passive_User    548450\n",
       "Date            548450\n",
       "dtype: int64"
      ]
     },
     "execution_count": 12,
     "metadata": {},
     "output_type": "execute_result"
    }
   ],
   "source": [
    "Recent_answers.count()"
   ]
  },
  {
   "cell_type": "markdown",
   "id": "cb70166a-eacc-4df3-9652-fd87d8900973",
   "metadata": {},
   "source": [
    "Creating the multi-graph using the networkx library"
   ]
  },
  {
   "cell_type": "markdown",
   "id": "14ebb33d-4ec1-4efc-8080-f45462a4f041",
   "metadata": {},
   "source": [
    "# time can be removed beetween the attributes? just keeping it in the key? (solo per ricordarcelo)"
   ]
  },
  {
   "cell_type": "markdown",
   "id": "dad87e9f-9cdf-42e8-b6a4-b98e6d95d2d1",
   "metadata": {},
   "source": [
    "we decided to use a multigraph where 2 nodes can be linked by more edges, each edge is unique given its key( time)"
   ]
  },
  {
   "cell_type": "code",
   "execution_count": 13,
   "id": "e5931708-1e27-4d05-966d-57c90243ae55",
   "metadata": {},
   "outputs": [],
   "source": [
    "g = nx.from_pandas_edgelist(Recent_answers, \"Active_User\", \"Passive_User\", edge_attr=True,edge_key=\"Date\",create_using=nx.MultiDiGraph())"
   ]
  },
  {
   "cell_type": "markdown",
   "id": "26e3608f-56d4-408c-bf0e-b587e8c26103",
   "metadata": {},
   "source": [
    "il grafico è strano 😅 però da quello che ho capito spesso capita cosi' quando abbiamo molti nodi, ho comunque controllato guardano le edges e i nodi e sembra che si comporti bene"
   ]
  },
  {
   "cell_type": "markdown",
   "id": "c415d7fe-37de-4ca9-affc-06ae82e14682",
   "metadata": {},
   "source": [
    "Number of nodes"
   ]
  },
  {
   "cell_type": "code",
   "execution_count": 14,
   "id": "b4edd0de-4dda-4cdd-8735-394c8583d2b9",
   "metadata": {},
   "outputs": [
    {
     "data": {
      "text/plain": [
       "318017"
      ]
     },
     "execution_count": 14,
     "metadata": {},
     "output_type": "execute_result"
    }
   ],
   "source": [
    "g.number_of_nodes()"
   ]
  },
  {
   "cell_type": "code",
   "execution_count": 15,
   "id": "a243581c-6de4-42d8-81b0-a1512884e715",
   "metadata": {},
   "outputs": [
    {
     "data": {
      "text/plain": [
       "548450"
      ]
     },
     "execution_count": 15,
     "metadata": {},
     "output_type": "execute_result"
    }
   ],
   "source": [
    "g.number_of_edges()"
   ]
  },
  {
   "cell_type": "markdown",
   "id": "49b452d2-1f67-498a-acf2-071716fac82a",
   "metadata": {},
   "source": [
    "list of all nodes"
   ]
  },
  {
   "cell_type": "code",
   "execution_count": null,
   "id": "2003d30f-6c65-4a26-b77a-bfbb598a185d",
   "metadata": {},
   "outputs": [],
   "source": [
    "list(g.nodes)"
   ]
  },
  {
   "cell_type": "markdown",
   "id": "279f56d2-0c36-4581-ad40-7858d9a62d67",
   "metadata": {},
   "source": [
    "list of all edges"
   ]
  },
  {
   "cell_type": "code",
   "execution_count": null,
   "id": "1cd9f503-530f-4673-b401-4014935b281b",
   "metadata": {},
   "outputs": [],
   "source": [
    "list(g.edges)"
   ]
  },
  {
   "cell_type": "markdown",
   "id": "41b8362c-723c-41d8-a838-373bb3ee4089",
   "metadata": {},
   "source": [
    "list of tuples of node and its adjacents"
   ]
  },
  {
   "cell_type": "code",
   "execution_count": null,
   "id": "bcecdcf2-e3f2-4585-8a3d-d4a96be31d68",
   "metadata": {},
   "outputs": [],
   "source": [
    "[(n, nbrdict) for n, nbrdict in g.adjacency()]"
   ]
  },
  {
   "cell_type": "markdown",
   "id": "64c02df5-a134-4583-a9d2-2ff22dff15e9",
   "metadata": {
    "tags": []
   },
   "source": [
    "# Now we can start creating the needed graph"
   ]
  },
  {
   "cell_type": "code",
   "execution_count": 19,
   "id": "ff2da5af-6c3c-44b7-bc8b-e96b34ec8337",
   "metadata": {},
   "outputs": [],
   "source": [
    "Recent_answers=answers[(answers['Date'] >= '2016-01-01') & (answers[\"Active_User\"] != answers[\"Passive_User\"])].copy()"
   ]
  },
  {
   "cell_type": "code",
   "execution_count": 20,
   "id": "c5c1a90a-7b7d-4c91-9bef-49c2373f5df1",
   "metadata": {},
   "outputs": [
    {
     "data": {
      "text/plain": [
       "Active_User     548450\n",
       "Passive_User    548450\n",
       "Date            548450\n",
       "dtype: int64"
      ]
     },
     "execution_count": 20,
     "metadata": {},
     "output_type": "execute_result"
    }
   ],
   "source": [
    "Recent_answers.count()"
   ]
  },
  {
   "cell_type": "code",
   "execution_count": 21,
   "id": "abb9db24-3987-4452-84b0-c980371d5939",
   "metadata": {},
   "outputs": [
    {
     "data": {
      "text/plain": [
       "0"
      ]
     },
     "execution_count": 21,
     "metadata": {},
     "output_type": "execute_result"
    }
   ],
   "source": [
    "Recent_answers.isna().sum().sum()"
   ]
  },
  {
   "cell_type": "markdown",
   "id": "c5e209aa-16fb-4e58-89fa-f9d6fbb9b62b",
   "metadata": {},
   "source": [
    "I insert a column with the weight for each edge"
   ]
  },
  {
   "cell_type": "code",
   "execution_count": 22,
   "id": "d0afce8b-4fef-4fb1-af37-b1611f9f84bb",
   "metadata": {},
   "outputs": [],
   "source": [
    "Recent_answers[\"weight\"]=1"
   ]
  },
  {
   "cell_type": "code",
   "execution_count": 23,
   "id": "230387f1-02a9-49e4-bc19-2f527440e3b4",
   "metadata": {},
   "outputs": [
    {
     "data": {
      "text/html": [
       "<div>\n",
       "<style scoped>\n",
       "    .dataframe tbody tr th:only-of-type {\n",
       "        vertical-align: middle;\n",
       "    }\n",
       "\n",
       "    .dataframe tbody tr th {\n",
       "        vertical-align: top;\n",
       "    }\n",
       "\n",
       "    .dataframe thead th {\n",
       "        text-align: right;\n",
       "    }\n",
       "</style>\n",
       "<table border=\"1\" class=\"dataframe\">\n",
       "  <thead>\n",
       "    <tr style=\"text-align: right;\">\n",
       "      <th></th>\n",
       "      <th>Active_User</th>\n",
       "      <th>Passive_User</th>\n",
       "      <th>Date</th>\n",
       "      <th>weight</th>\n",
       "    </tr>\n",
       "  </thead>\n",
       "  <tbody>\n",
       "    <tr>\n",
       "      <th>17226995</th>\n",
       "      <td>3877963</td>\n",
       "      <td>4606570</td>\n",
       "      <td>2016-01-01 00:00:01</td>\n",
       "      <td>1</td>\n",
       "    </tr>\n",
       "    <tr>\n",
       "      <th>17226996</th>\n",
       "      <td>3539722</td>\n",
       "      <td>2450821</td>\n",
       "      <td>2016-01-01 00:00:12</td>\n",
       "      <td>1</td>\n",
       "    </tr>\n",
       "    <tr>\n",
       "      <th>17226997</th>\n",
       "      <td>2502532</td>\n",
       "      <td>5248833</td>\n",
       "      <td>2016-01-01 00:00:45</td>\n",
       "      <td>1</td>\n",
       "    </tr>\n",
       "    <tr>\n",
       "      <th>17226998</th>\n",
       "      <td>3829407</td>\n",
       "      <td>5712246</td>\n",
       "      <td>2016-01-01 00:00:49</td>\n",
       "      <td>1</td>\n",
       "    </tr>\n",
       "    <tr>\n",
       "      <th>17226999</th>\n",
       "      <td>5199921</td>\n",
       "      <td>2130738</td>\n",
       "      <td>2016-01-01 00:00:54</td>\n",
       "      <td>1</td>\n",
       "    </tr>\n",
       "  </tbody>\n",
       "</table>\n",
       "</div>"
      ],
      "text/plain": [
       "          Active_User  Passive_User                Date  weight\n",
       "17226995      3877963       4606570 2016-01-01 00:00:01       1\n",
       "17226996      3539722       2450821 2016-01-01 00:00:12       1\n",
       "17226997      2502532       5248833 2016-01-01 00:00:45       1\n",
       "17226998      3829407       5712246 2016-01-01 00:00:49       1\n",
       "17226999      5199921       2130738 2016-01-01 00:00:54       1"
      ]
     },
     "execution_count": 23,
     "metadata": {},
     "output_type": "execute_result"
    }
   ],
   "source": [
    "Recent_answers.head()"
   ]
  },
  {
   "cell_type": "code",
   "execution_count": 24,
   "id": "773a82b4-845d-411e-b27f-d7c224e06706",
   "metadata": {},
   "outputs": [
    {
     "data": {
      "text/html": [
       "<div>\n",
       "<style scoped>\n",
       "    .dataframe tbody tr th:only-of-type {\n",
       "        vertical-align: middle;\n",
       "    }\n",
       "\n",
       "    .dataframe tbody tr th {\n",
       "        vertical-align: top;\n",
       "    }\n",
       "\n",
       "    .dataframe thead th {\n",
       "        text-align: right;\n",
       "    }\n",
       "</style>\n",
       "<table border=\"1\" class=\"dataframe\">\n",
       "  <thead>\n",
       "    <tr style=\"text-align: right;\">\n",
       "      <th></th>\n",
       "      <th></th>\n",
       "      <th>Date</th>\n",
       "      <th>weight</th>\n",
       "    </tr>\n",
       "    <tr>\n",
       "      <th>Active_User</th>\n",
       "      <th>Passive_User</th>\n",
       "      <th></th>\n",
       "      <th></th>\n",
       "    </tr>\n",
       "  </thead>\n",
       "  <tbody>\n",
       "    <tr>\n",
       "      <th rowspan=\"5\" valign=\"top\">13</th>\n",
       "      <th>45843</th>\n",
       "      <td>1</td>\n",
       "      <td>1</td>\n",
       "    </tr>\n",
       "    <tr>\n",
       "      <th>411103</th>\n",
       "      <td>1</td>\n",
       "      <td>1</td>\n",
       "    </tr>\n",
       "    <tr>\n",
       "      <th>633183</th>\n",
       "      <td>1</td>\n",
       "      <td>1</td>\n",
       "    </tr>\n",
       "    <tr>\n",
       "      <th>761118</th>\n",
       "      <td>1</td>\n",
       "      <td>1</td>\n",
       "    </tr>\n",
       "    <tr>\n",
       "      <th>1079641</th>\n",
       "      <td>1</td>\n",
       "      <td>1</td>\n",
       "    </tr>\n",
       "    <tr>\n",
       "      <th>...</th>\n",
       "      <th>...</th>\n",
       "      <td>...</td>\n",
       "      <td>...</td>\n",
       "    </tr>\n",
       "    <tr>\n",
       "      <th>6024128</th>\n",
       "      <th>2072724</th>\n",
       "      <td>1</td>\n",
       "      <td>1</td>\n",
       "    </tr>\n",
       "    <tr>\n",
       "      <th>6024148</th>\n",
       "      <th>1001994</th>\n",
       "      <td>1</td>\n",
       "      <td>1</td>\n",
       "    </tr>\n",
       "    <tr>\n",
       "      <th>6024168</th>\n",
       "      <th>5753950</th>\n",
       "      <td>1</td>\n",
       "      <td>1</td>\n",
       "    </tr>\n",
       "    <tr>\n",
       "      <th>6024228</th>\n",
       "      <th>6024201</th>\n",
       "      <td>1</td>\n",
       "      <td>1</td>\n",
       "    </tr>\n",
       "    <tr>\n",
       "      <th>6024236</th>\n",
       "      <th>5644064</th>\n",
       "      <td>1</td>\n",
       "      <td>1</td>\n",
       "    </tr>\n",
       "  </tbody>\n",
       "</table>\n",
       "<p>534761 rows × 2 columns</p>\n",
       "</div>"
      ],
      "text/plain": [
       "                          Date  weight\n",
       "Active_User Passive_User              \n",
       "13          45843            1       1\n",
       "            411103           1       1\n",
       "            633183           1       1\n",
       "            761118           1       1\n",
       "            1079641          1       1\n",
       "...                        ...     ...\n",
       "6024128     2072724          1       1\n",
       "6024148     1001994          1       1\n",
       "6024168     5753950          1       1\n",
       "6024228     6024201          1       1\n",
       "6024236     5644064          1       1\n",
       "\n",
       "[534761 rows x 2 columns]"
      ]
     },
     "execution_count": 24,
     "metadata": {},
     "output_type": "execute_result"
    }
   ],
   "source": [
    "Recent_answers.groupby([\"Active_User\",\"Passive_User\"]).count()"
   ]
  },
  {
   "cell_type": "code",
   "execution_count": 57,
   "id": "d62ec2ea-acb5-4bcf-913e-4b82d91a2aeb",
   "metadata": {},
   "outputs": [],
   "source": [
    "g = nx.from_pandas_edgelist(Recent_answers, \"Active_User\", \"Passive_User\", edge_attr=True,edge_key=\"Date\",create_using=nx.MultiDiGraph())"
   ]
  },
  {
   "cell_type": "markdown",
   "id": "8c171c88-41b4-4bd4-acc2-4732a935006e",
   "metadata": {},
   "source": [
    "# loading the comments on questions"
   ]
  },
  {
   "cell_type": "code",
   "execution_count": 26,
   "id": "17bb9f0e-5cae-47e1-90d8-ac47bc010e4b",
   "metadata": {},
   "outputs": [],
   "source": [
    "comments_onQuestions=pd.read_csv(\"/Users/simone/Desktop/sx-stackoverflow-c2q.txt\",sep=\" \",header=None,names=['Active_User', 'Passive_User', 'Date'])"
   ]
  },
  {
   "cell_type": "code",
   "execution_count": 27,
   "id": "df01c777-34e0-49ae-9da1-b111bd38bfa9",
   "metadata": {},
   "outputs": [
    {
     "data": {
      "text/html": [
       "<div>\n",
       "<style scoped>\n",
       "    .dataframe tbody tr th:only-of-type {\n",
       "        vertical-align: middle;\n",
       "    }\n",
       "\n",
       "    .dataframe tbody tr th {\n",
       "        vertical-align: top;\n",
       "    }\n",
       "\n",
       "    .dataframe thead th {\n",
       "        text-align: right;\n",
       "    }\n",
       "</style>\n",
       "<table border=\"1\" class=\"dataframe\">\n",
       "  <thead>\n",
       "    <tr style=\"text-align: right;\">\n",
       "      <th></th>\n",
       "      <th>Active_User</th>\n",
       "      <th>Passive_User</th>\n",
       "      <th>Date</th>\n",
       "    </tr>\n",
       "  </thead>\n",
       "  <tbody>\n",
       "    <tr>\n",
       "      <th>0</th>\n",
       "      <td>4550</td>\n",
       "      <td>4550</td>\n",
       "      <td>1220729190</td>\n",
       "    </tr>\n",
       "    <tr>\n",
       "      <th>1</th>\n",
       "      <td>242</td>\n",
       "      <td>184</td>\n",
       "      <td>1220733503</td>\n",
       "    </tr>\n",
       "    <tr>\n",
       "      <th>2</th>\n",
       "      <td>4213</td>\n",
       "      <td>4946</td>\n",
       "      <td>1220768149</td>\n",
       "    </tr>\n",
       "    <tr>\n",
       "      <th>3</th>\n",
       "      <td>91</td>\n",
       "      <td>91</td>\n",
       "      <td>1220768295</td>\n",
       "    </tr>\n",
       "    <tr>\n",
       "      <th>4</th>\n",
       "      <td>2658</td>\n",
       "      <td>1874</td>\n",
       "      <td>1220771891</td>\n",
       "    </tr>\n",
       "  </tbody>\n",
       "</table>\n",
       "</div>"
      ],
      "text/plain": [
       "   Active_User  Passive_User        Date\n",
       "0         4550          4550  1220729190\n",
       "1          242           184  1220733503\n",
       "2         4213          4946  1220768149\n",
       "3           91            91  1220768295\n",
       "4         2658          1874  1220771891"
      ]
     },
     "execution_count": 27,
     "metadata": {},
     "output_type": "execute_result"
    }
   ],
   "source": [
    "comments_onQuestions.head()"
   ]
  },
  {
   "cell_type": "code",
   "execution_count": 28,
   "id": "2a6efc0c-04ab-42bc-9280-905bf90c1499",
   "metadata": {},
   "outputs": [
    {
     "data": {
      "text/plain": [
       "Active_User     20268151\n",
       "Passive_User    20268151\n",
       "Date            20268151\n",
       "dtype: int64"
      ]
     },
     "execution_count": 28,
     "metadata": {},
     "output_type": "execute_result"
    }
   ],
   "source": [
    "comments_onQuestions.count()"
   ]
  },
  {
   "cell_type": "code",
   "execution_count": 29,
   "id": "9ad243c1-ff01-407d-87d6-1135227cad19",
   "metadata": {},
   "outputs": [],
   "source": [
    "comments_onQuestions[\"Date\"]=pd.to_datetime(comments_onQuestions['Date'],unit='s')"
   ]
  },
  {
   "cell_type": "code",
   "execution_count": 30,
   "id": "c1ac8aea-bddc-470a-9bb1-8208bb84e6f4",
   "metadata": {},
   "outputs": [
    {
     "data": {
      "text/html": [
       "<div>\n",
       "<style scoped>\n",
       "    .dataframe tbody tr th:only-of-type {\n",
       "        vertical-align: middle;\n",
       "    }\n",
       "\n",
       "    .dataframe tbody tr th {\n",
       "        vertical-align: top;\n",
       "    }\n",
       "\n",
       "    .dataframe thead th {\n",
       "        text-align: right;\n",
       "    }\n",
       "</style>\n",
       "<table border=\"1\" class=\"dataframe\">\n",
       "  <thead>\n",
       "    <tr style=\"text-align: right;\">\n",
       "      <th></th>\n",
       "      <th>Active_User</th>\n",
       "      <th>Passive_User</th>\n",
       "      <th>Date</th>\n",
       "    </tr>\n",
       "  </thead>\n",
       "  <tbody>\n",
       "    <tr>\n",
       "      <th>0</th>\n",
       "      <td>4550</td>\n",
       "      <td>4550</td>\n",
       "      <td>2008-09-06 19:26:30</td>\n",
       "    </tr>\n",
       "    <tr>\n",
       "      <th>1</th>\n",
       "      <td>242</td>\n",
       "      <td>184</td>\n",
       "      <td>2008-09-06 20:38:23</td>\n",
       "    </tr>\n",
       "    <tr>\n",
       "      <th>2</th>\n",
       "      <td>4213</td>\n",
       "      <td>4946</td>\n",
       "      <td>2008-09-07 06:15:49</td>\n",
       "    </tr>\n",
       "    <tr>\n",
       "      <th>3</th>\n",
       "      <td>91</td>\n",
       "      <td>91</td>\n",
       "      <td>2008-09-07 06:18:15</td>\n",
       "    </tr>\n",
       "    <tr>\n",
       "      <th>4</th>\n",
       "      <td>2658</td>\n",
       "      <td>1874</td>\n",
       "      <td>2008-09-07 07:18:11</td>\n",
       "    </tr>\n",
       "  </tbody>\n",
       "</table>\n",
       "</div>"
      ],
      "text/plain": [
       "   Active_User  Passive_User                Date\n",
       "0         4550          4550 2008-09-06 19:26:30\n",
       "1          242           184 2008-09-06 20:38:23\n",
       "2         4213          4946 2008-09-07 06:15:49\n",
       "3           91            91 2008-09-07 06:18:15\n",
       "4         2658          1874 2008-09-07 07:18:11"
      ]
     },
     "execution_count": 30,
     "metadata": {},
     "output_type": "execute_result"
    }
   ],
   "source": [
    "comments_onQuestions.head()"
   ]
  },
  {
   "cell_type": "markdown",
   "id": "3c6630b5-8e0b-4b14-8208-87114f212643",
   "metadata": {},
   "source": [
    "Selecting only the most recent comments"
   ]
  },
  {
   "cell_type": "code",
   "execution_count": 31,
   "id": "8973e972-1a2a-4d9f-a611-13b1fe0a64dc",
   "metadata": {},
   "outputs": [],
   "source": [
    "Recent_comments_onQuestions=comments_onQuestions[(comments_onQuestions['Date'] >= '2016-01-01') & (comments_onQuestions[\"Active_User\"] != comments_onQuestions[\"Passive_User\"])].copy()"
   ]
  },
  {
   "cell_type": "code",
   "execution_count": 32,
   "id": "2bcc4e26-d328-4f8f-b514-656f2f30fb6e",
   "metadata": {},
   "outputs": [
    {
     "data": {
      "text/plain": [
       "0"
      ]
     },
     "execution_count": 32,
     "metadata": {},
     "output_type": "execute_result"
    }
   ],
   "source": [
    "Recent_answers.isna().sum().sum()"
   ]
  },
  {
   "cell_type": "markdown",
   "id": "e729137c-b4e5-4e2a-97e4-d224bc75186b",
   "metadata": {},
   "source": [
    "we insert a column to add the weight to each edge"
   ]
  },
  {
   "cell_type": "code",
   "execution_count": 33,
   "id": "30220a65-b221-4c3f-9a23-f79640b22e26",
   "metadata": {},
   "outputs": [],
   "source": [
    "Recent_comments_onQuestions[\"weight\"]=0.4"
   ]
  },
  {
   "cell_type": "code",
   "execution_count": 34,
   "id": "69de915b-721b-4e5e-9da9-64e643453e6b",
   "metadata": {},
   "outputs": [
    {
     "data": {
      "text/html": [
       "<div>\n",
       "<style scoped>\n",
       "    .dataframe tbody tr th:only-of-type {\n",
       "        vertical-align: middle;\n",
       "    }\n",
       "\n",
       "    .dataframe tbody tr th {\n",
       "        vertical-align: top;\n",
       "    }\n",
       "\n",
       "    .dataframe thead th {\n",
       "        text-align: right;\n",
       "    }\n",
       "</style>\n",
       "<table border=\"1\" class=\"dataframe\">\n",
       "  <thead>\n",
       "    <tr style=\"text-align: right;\">\n",
       "      <th></th>\n",
       "      <th>Active_User</th>\n",
       "      <th>Passive_User</th>\n",
       "      <th>Date</th>\n",
       "      <th>weight</th>\n",
       "    </tr>\n",
       "  </thead>\n",
       "  <tbody>\n",
       "    <tr>\n",
       "      <th>19237677</th>\n",
       "      <td>1569536</td>\n",
       "      <td>4854060</td>\n",
       "      <td>2016-01-01 00:00:13</td>\n",
       "      <td>0.4</td>\n",
       "    </tr>\n",
       "    <tr>\n",
       "      <th>19237679</th>\n",
       "      <td>1126841</td>\n",
       "      <td>3002444</td>\n",
       "      <td>2016-01-01 00:00:20</td>\n",
       "      <td>0.4</td>\n",
       "    </tr>\n",
       "    <tr>\n",
       "      <th>19237681</th>\n",
       "      <td>359284</td>\n",
       "      <td>1050303</td>\n",
       "      <td>2016-01-01 00:00:33</td>\n",
       "      <td>0.4</td>\n",
       "    </tr>\n",
       "    <tr>\n",
       "      <th>19237682</th>\n",
       "      <td>2189127</td>\n",
       "      <td>4022511</td>\n",
       "      <td>2016-01-01 00:00:58</td>\n",
       "      <td>0.4</td>\n",
       "    </tr>\n",
       "    <tr>\n",
       "      <th>19237685</th>\n",
       "      <td>1676363</td>\n",
       "      <td>502463</td>\n",
       "      <td>2016-01-01 00:01:03</td>\n",
       "      <td>0.4</td>\n",
       "    </tr>\n",
       "  </tbody>\n",
       "</table>\n",
       "</div>"
      ],
      "text/plain": [
       "          Active_User  Passive_User                Date  weight\n",
       "19237677      1569536       4854060 2016-01-01 00:00:13     0.4\n",
       "19237679      1126841       3002444 2016-01-01 00:00:20     0.4\n",
       "19237681       359284       1050303 2016-01-01 00:00:33     0.4\n",
       "19237682      2189127       4022511 2016-01-01 00:00:58     0.4\n",
       "19237685      1676363        502463 2016-01-01 00:01:03     0.4"
      ]
     },
     "execution_count": 34,
     "metadata": {},
     "output_type": "execute_result"
    }
   ],
   "source": [
    "Recent_comments_onQuestions.head()"
   ]
  },
  {
   "cell_type": "code",
   "execution_count": 35,
   "id": "fae952e6-c04b-497c-b647-5f8299fa46c6",
   "metadata": {},
   "outputs": [
    {
     "data": {
      "text/plain": [
       "Active_User     687560\n",
       "Passive_User    687560\n",
       "Date            687560\n",
       "weight          687560\n",
       "dtype: int64"
      ]
     },
     "execution_count": 35,
     "metadata": {},
     "output_type": "execute_result"
    }
   ],
   "source": [
    "Recent_comments_onQuestions.count()"
   ]
  },
  {
   "cell_type": "code",
   "execution_count": 36,
   "id": "07abe27f-7027-403b-8de5-13808fb68f03",
   "metadata": {},
   "outputs": [],
   "source": [
    "g2 = nx.from_pandas_edgelist(Recent_comments_onQuestions, \"Active_User\", \"Passive_User\", edge_attr=True,edge_key=\"Date\",create_using=nx.MultiGraph())"
   ]
  },
  {
   "cell_type": "code",
   "execution_count": null,
   "id": "b76b4bed-2a1a-42ee-b11e-97de914faa97",
   "metadata": {},
   "outputs": [],
   "source": [
    "[(n, nbrdict) for n, nbrdict in g.adjacency()]"
   ]
  },
  {
   "cell_type": "code",
   "execution_count": 38,
   "id": "5f1a02c5-b73e-4876-8297-bdb1dbd901f2",
   "metadata": {},
   "outputs": [
    {
     "data": {
      "text/plain": [
       "0"
      ]
     },
     "execution_count": 38,
     "metadata": {},
     "output_type": "execute_result"
    }
   ],
   "source": [
    "Recent_answers.isna().sum().sum()"
   ]
  },
  {
   "cell_type": "markdown",
   "id": "bc9f4d29-8520-40fa-8bb4-4be77ac00481",
   "metadata": {},
   "source": [
    "# combining the multi-graph using the networkx library"
   ]
  },
  {
   "cell_type": "code",
   "execution_count": 39,
   "id": "c09f6777-2b8e-446a-9ec9-1cfd0e495f72",
   "metadata": {},
   "outputs": [],
   "source": [
    "G = nx.compose(g,g2)"
   ]
  },
  {
   "cell_type": "code",
   "execution_count": null,
   "id": "fd902b49-70a6-4d96-9ddb-97a7bbade38a",
   "metadata": {},
   "outputs": [],
   "source": [
    "[(n, nbrdict) for n, nbrdict in g.adjacency()]"
   ]
  },
  {
   "cell_type": "markdown",
   "id": "2ec9f433-57af-4ce1-9348-fe0c935c5de8",
   "metadata": {},
   "source": [
    "loading all the comments on answers"
   ]
  },
  {
   "cell_type": "code",
   "execution_count": 41,
   "id": "c15b1d23-9075-49b4-93fa-fff91a77f1ef",
   "metadata": {},
   "outputs": [],
   "source": [
    "comments_onAnswers=pd.read_csv(\"/Users/simone/Desktop/sx-stackoverflow-c2a.txt\",sep=\" \",header=None,names=['Active_User', 'Passive_User', 'Date'])"
   ]
  },
  {
   "cell_type": "code",
   "execution_count": 42,
   "id": "6b909dca-9e84-4500-ba1d-941efb8c1987",
   "metadata": {},
   "outputs": [
    {
     "data": {
      "text/html": [
       "<div>\n",
       "<style scoped>\n",
       "    .dataframe tbody tr th:only-of-type {\n",
       "        vertical-align: middle;\n",
       "    }\n",
       "\n",
       "    .dataframe tbody tr th {\n",
       "        vertical-align: top;\n",
       "    }\n",
       "\n",
       "    .dataframe thead th {\n",
       "        text-align: right;\n",
       "    }\n",
       "</style>\n",
       "<table border=\"1\" class=\"dataframe\">\n",
       "  <thead>\n",
       "    <tr style=\"text-align: right;\">\n",
       "      <th></th>\n",
       "      <th>Active_User</th>\n",
       "      <th>Passive_User</th>\n",
       "      <th>Date</th>\n",
       "    </tr>\n",
       "  </thead>\n",
       "  <tbody>\n",
       "    <tr>\n",
       "      <th>0</th>\n",
       "      <td>1</td>\n",
       "      <td>91</td>\n",
       "      <td>1220713630</td>\n",
       "    </tr>\n",
       "    <tr>\n",
       "      <th>1</th>\n",
       "      <td>3</td>\n",
       "      <td>91</td>\n",
       "      <td>1220713792</td>\n",
       "    </tr>\n",
       "    <tr>\n",
       "      <th>2</th>\n",
       "      <td>380</td>\n",
       "      <td>350</td>\n",
       "      <td>1220715736</td>\n",
       "    </tr>\n",
       "    <tr>\n",
       "      <th>3</th>\n",
       "      <td>4642</td>\n",
       "      <td>2257</td>\n",
       "      <td>1220734307</td>\n",
       "    </tr>\n",
       "    <tr>\n",
       "      <th>4</th>\n",
       "      <td>4642</td>\n",
       "      <td>1324220</td>\n",
       "      <td>1220735746</td>\n",
       "    </tr>\n",
       "  </tbody>\n",
       "</table>\n",
       "</div>"
      ],
      "text/plain": [
       "   Active_User  Passive_User        Date\n",
       "0            1            91  1220713630\n",
       "1            3            91  1220713792\n",
       "2          380           350  1220715736\n",
       "3         4642          2257  1220734307\n",
       "4         4642       1324220  1220735746"
      ]
     },
     "execution_count": 42,
     "metadata": {},
     "output_type": "execute_result"
    }
   ],
   "source": [
    "comments_onAnswers.head()"
   ]
  },
  {
   "cell_type": "code",
   "execution_count": 43,
   "id": "5d67b41c-7a4d-4671-9d95-796936d228a7",
   "metadata": {},
   "outputs": [],
   "source": [
    "comments_onAnswers[\"Date\"]=pd.to_datetime(comments_onAnswers['Date'],unit='s')"
   ]
  },
  {
   "cell_type": "code",
   "execution_count": 44,
   "id": "701e54ef-1733-4a4a-bcdd-ebb7fee16360",
   "metadata": {},
   "outputs": [
    {
     "data": {
      "text/html": [
       "<div>\n",
       "<style scoped>\n",
       "    .dataframe tbody tr th:only-of-type {\n",
       "        vertical-align: middle;\n",
       "    }\n",
       "\n",
       "    .dataframe tbody tr th {\n",
       "        vertical-align: top;\n",
       "    }\n",
       "\n",
       "    .dataframe thead th {\n",
       "        text-align: right;\n",
       "    }\n",
       "</style>\n",
       "<table border=\"1\" class=\"dataframe\">\n",
       "  <thead>\n",
       "    <tr style=\"text-align: right;\">\n",
       "      <th></th>\n",
       "      <th>Active_User</th>\n",
       "      <th>Passive_User</th>\n",
       "      <th>Date</th>\n",
       "    </tr>\n",
       "  </thead>\n",
       "  <tbody>\n",
       "    <tr>\n",
       "      <th>0</th>\n",
       "      <td>1</td>\n",
       "      <td>91</td>\n",
       "      <td>2008-09-06 15:07:10</td>\n",
       "    </tr>\n",
       "    <tr>\n",
       "      <th>1</th>\n",
       "      <td>3</td>\n",
       "      <td>91</td>\n",
       "      <td>2008-09-06 15:09:52</td>\n",
       "    </tr>\n",
       "    <tr>\n",
       "      <th>2</th>\n",
       "      <td>380</td>\n",
       "      <td>350</td>\n",
       "      <td>2008-09-06 15:42:16</td>\n",
       "    </tr>\n",
       "    <tr>\n",
       "      <th>3</th>\n",
       "      <td>4642</td>\n",
       "      <td>2257</td>\n",
       "      <td>2008-09-06 20:51:47</td>\n",
       "    </tr>\n",
       "    <tr>\n",
       "      <th>4</th>\n",
       "      <td>4642</td>\n",
       "      <td>1324220</td>\n",
       "      <td>2008-09-06 21:15:46</td>\n",
       "    </tr>\n",
       "  </tbody>\n",
       "</table>\n",
       "</div>"
      ],
      "text/plain": [
       "   Active_User  Passive_User                Date\n",
       "0            1            91 2008-09-06 15:07:10\n",
       "1            3            91 2008-09-06 15:09:52\n",
       "2          380           350 2008-09-06 15:42:16\n",
       "3         4642          2257 2008-09-06 20:51:47\n",
       "4         4642       1324220 2008-09-06 21:15:46"
      ]
     },
     "execution_count": 44,
     "metadata": {},
     "output_type": "execute_result"
    }
   ],
   "source": [
    "comments_onAnswers.head()"
   ]
  },
  {
   "cell_type": "markdown",
   "id": "43eb3a7c-6501-47cf-b9a3-1ea0a2840c2a",
   "metadata": {},
   "source": [
    "Selecting only the most recent comments"
   ]
  },
  {
   "cell_type": "code",
   "execution_count": 45,
   "id": "bc45dc04-022b-43ab-be6f-0b7640aada5d",
   "metadata": {},
   "outputs": [],
   "source": [
    "Recent_comments_onAnswers=comments_onAnswers[(comments_onAnswers['Date'] >= '2016-01-01') & (comments_onAnswers[\"Active_User\"] != comments_onAnswers[\"Passive_User\"])].copy()"
   ]
  },
  {
   "cell_type": "code",
   "execution_count": 46,
   "id": "93ee7f37-9b91-48a1-aff3-eab817b8cdb8",
   "metadata": {},
   "outputs": [
    {
     "data": {
      "text/html": [
       "<div>\n",
       "<style scoped>\n",
       "    .dataframe tbody tr th:only-of-type {\n",
       "        vertical-align: middle;\n",
       "    }\n",
       "\n",
       "    .dataframe tbody tr th {\n",
       "        vertical-align: top;\n",
       "    }\n",
       "\n",
       "    .dataframe thead th {\n",
       "        text-align: right;\n",
       "    }\n",
       "</style>\n",
       "<table border=\"1\" class=\"dataframe\">\n",
       "  <thead>\n",
       "    <tr style=\"text-align: right;\">\n",
       "      <th></th>\n",
       "      <th>Active_User</th>\n",
       "      <th>Passive_User</th>\n",
       "      <th>Date</th>\n",
       "    </tr>\n",
       "  </thead>\n",
       "  <tbody>\n",
       "    <tr>\n",
       "      <th>24495604</th>\n",
       "      <td>1104292</td>\n",
       "      <td>5149448</td>\n",
       "      <td>2016-01-01 00:00:25</td>\n",
       "    </tr>\n",
       "    <tr>\n",
       "      <th>24495605</th>\n",
       "      <td>137507</td>\n",
       "      <td>2102831</td>\n",
       "      <td>2016-01-01 00:00:26</td>\n",
       "    </tr>\n",
       "    <tr>\n",
       "      <th>24495607</th>\n",
       "      <td>2334092</td>\n",
       "      <td>2658050</td>\n",
       "      <td>2016-01-01 00:00:48</td>\n",
       "    </tr>\n",
       "    <tr>\n",
       "      <th>24495610</th>\n",
       "      <td>3405980</td>\n",
       "      <td>854083</td>\n",
       "      <td>2016-01-01 00:01:00</td>\n",
       "    </tr>\n",
       "    <tr>\n",
       "      <th>24495611</th>\n",
       "      <td>2334092</td>\n",
       "      <td>2658050</td>\n",
       "      <td>2016-01-01 00:01:10</td>\n",
       "    </tr>\n",
       "  </tbody>\n",
       "</table>\n",
       "</div>"
      ],
      "text/plain": [
       "          Active_User  Passive_User                Date\n",
       "24495604      1104292       5149448 2016-01-01 00:00:25\n",
       "24495605       137507       2102831 2016-01-01 00:00:26\n",
       "24495607      2334092       2658050 2016-01-01 00:00:48\n",
       "24495610      3405980        854083 2016-01-01 00:01:00\n",
       "24495611      2334092       2658050 2016-01-01 00:01:10"
      ]
     },
     "execution_count": 46,
     "metadata": {},
     "output_type": "execute_result"
    }
   ],
   "source": [
    "Recent_comments_onAnswers.head()"
   ]
  },
  {
   "cell_type": "code",
   "execution_count": 47,
   "id": "8360472f-58cd-419d-bc69-b086ac5538cf",
   "metadata": {},
   "outputs": [],
   "source": [
    "Recent_comments_onAnswers[\"weight\"]=0.6"
   ]
  },
  {
   "cell_type": "code",
   "execution_count": 48,
   "id": "b5ed24e6-d766-48b9-80b0-bc7011e5f64a",
   "metadata": {},
   "outputs": [
    {
     "data": {
      "text/html": [
       "<div>\n",
       "<style scoped>\n",
       "    .dataframe tbody tr th:only-of-type {\n",
       "        vertical-align: middle;\n",
       "    }\n",
       "\n",
       "    .dataframe tbody tr th {\n",
       "        vertical-align: top;\n",
       "    }\n",
       "\n",
       "    .dataframe thead th {\n",
       "        text-align: right;\n",
       "    }\n",
       "</style>\n",
       "<table border=\"1\" class=\"dataframe\">\n",
       "  <thead>\n",
       "    <tr style=\"text-align: right;\">\n",
       "      <th></th>\n",
       "      <th>Active_User</th>\n",
       "      <th>Passive_User</th>\n",
       "      <th>Date</th>\n",
       "      <th>weight</th>\n",
       "    </tr>\n",
       "  </thead>\n",
       "  <tbody>\n",
       "    <tr>\n",
       "      <th>24495604</th>\n",
       "      <td>1104292</td>\n",
       "      <td>5149448</td>\n",
       "      <td>2016-01-01 00:00:25</td>\n",
       "      <td>0.6</td>\n",
       "    </tr>\n",
       "    <tr>\n",
       "      <th>24495605</th>\n",
       "      <td>137507</td>\n",
       "      <td>2102831</td>\n",
       "      <td>2016-01-01 00:00:26</td>\n",
       "      <td>0.6</td>\n",
       "    </tr>\n",
       "    <tr>\n",
       "      <th>24495607</th>\n",
       "      <td>2334092</td>\n",
       "      <td>2658050</td>\n",
       "      <td>2016-01-01 00:00:48</td>\n",
       "      <td>0.6</td>\n",
       "    </tr>\n",
       "    <tr>\n",
       "      <th>24495610</th>\n",
       "      <td>3405980</td>\n",
       "      <td>854083</td>\n",
       "      <td>2016-01-01 00:01:00</td>\n",
       "      <td>0.6</td>\n",
       "    </tr>\n",
       "    <tr>\n",
       "      <th>24495611</th>\n",
       "      <td>2334092</td>\n",
       "      <td>2658050</td>\n",
       "      <td>2016-01-01 00:01:10</td>\n",
       "      <td>0.6</td>\n",
       "    </tr>\n",
       "  </tbody>\n",
       "</table>\n",
       "</div>"
      ],
      "text/plain": [
       "          Active_User  Passive_User                Date  weight\n",
       "24495604      1104292       5149448 2016-01-01 00:00:25     0.6\n",
       "24495605       137507       2102831 2016-01-01 00:00:26     0.6\n",
       "24495607      2334092       2658050 2016-01-01 00:00:48     0.6\n",
       "24495610      3405980        854083 2016-01-01 00:01:00     0.6\n",
       "24495611      2334092       2658050 2016-01-01 00:01:10     0.6"
      ]
     },
     "execution_count": 48,
     "metadata": {},
     "output_type": "execute_result"
    }
   ],
   "source": [
    "Recent_comments_onAnswers.head()"
   ]
  },
  {
   "cell_type": "code",
   "execution_count": 49,
   "id": "cc6c7a89-a7f9-46d4-aa08-7987f972d710",
   "metadata": {},
   "outputs": [
    {
     "data": {
      "text/plain": [
       "Active_User     618027\n",
       "Passive_User    618027\n",
       "Date            618027\n",
       "weight          618027\n",
       "dtype: int64"
      ]
     },
     "execution_count": 49,
     "metadata": {},
     "output_type": "execute_result"
    }
   ],
   "source": [
    "Recent_comments_onAnswers.count()"
   ]
  },
  {
   "cell_type": "code",
   "execution_count": 50,
   "id": "3a1daa6f-e93d-4838-a364-846ebc1b3366",
   "metadata": {},
   "outputs": [],
   "source": [
    "g3 = nx.from_pandas_edgelist(Recent_comments_onAnswers, \"Active_User\", \"Passive_User\", edge_attr=True,edge_key=\"Date\",create_using=nx.MultiGraph())"
   ]
  },
  {
   "cell_type": "markdown",
   "id": "7ad945cd-fb75-473d-983e-49f852067dea",
   "metadata": {},
   "source": [
    "combining the multi-graph using the networkx library"
   ]
  },
  {
   "cell_type": "code",
   "execution_count": 51,
   "id": "bc2a62b1-ccde-4b52-9e55-bc8602bafed5",
   "metadata": {},
   "outputs": [],
   "source": [
    "final_G = nx.compose(g3,G)"
   ]
  },
  {
   "cell_type": "code",
   "execution_count": 52,
   "id": "c77393cf-e0cb-4c36-ada5-eb15de8f624b",
   "metadata": {},
   "outputs": [],
   "source": [
    "import pickle"
   ]
  },
  {
   "cell_type": "code",
   "execution_count": 53,
   "id": "63f0fcdf-b156-4072-b5e4-d20c8d032ad3",
   "metadata": {},
   "outputs": [],
   "source": [
    "pickle.dump(final_G, open('final_G', 'wb'))"
   ]
  },
  {
   "cell_type": "code",
   "execution_count": 55,
   "id": "54f4d0ef-f264-4e60-8354-0f1364d6dc04",
   "metadata": {},
   "outputs": [],
   "source": [
    "# Load graph\n",
    "with open(\"/Users/simone/Desktop/final_G\", 'rb') as f: \n",
    "    G_loaded = pickle.load(f)"
   ]
  },
  {
   "cell_type": "code",
   "execution_count": 56,
   "id": "4546b9c3-9931-4d0a-b312-533f4ba99b65",
   "metadata": {},
   "outputs": [],
   "source": [
    "pickle.dump(g3, open('Recent_comments_onAnswers', 'wb'))"
   ]
  },
  {
   "cell_type": "code",
   "execution_count": 58,
   "id": "dd7eca39-15e8-48e1-a209-d780611203b8",
   "metadata": {},
   "outputs": [],
   "source": [
    "pickle.dump(g, open('Recent_answers', 'wb'))"
   ]
  },
  {
   "cell_type": "code",
   "execution_count": 59,
   "id": "44c5a196-8d9c-48d0-a4fa-dbffa0338a26",
   "metadata": {},
   "outputs": [],
   "source": [
    "pickle.dump(g2, open('Recent_comments_onQuestions', 'wb'))"
   ]
  },
  {
   "cell_type": "code",
   "execution_count": null,
   "id": "dbd56fd5-4317-41f1-8e98-7d3c768c4e03",
   "metadata": {},
   "outputs": [],
   "source": []
  }
 ],
 "metadata": {
  "kernelspec": {
   "display_name": "Python 3 (ipykernel)",
   "language": "python",
   "name": "python3"
  },
  "language_info": {
   "codemirror_mode": {
    "name": "ipython",
    "version": 3
   },
   "file_extension": ".py",
   "mimetype": "text/x-python",
   "name": "python",
   "nbconvert_exporter": "python",
   "pygments_lexer": "ipython3",
   "version": "3.8.12"
  }
 },
 "nbformat": 4,
 "nbformat_minor": 5
}
