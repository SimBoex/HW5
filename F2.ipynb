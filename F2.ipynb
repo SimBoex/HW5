{
 "cells": [
  {
   "cell_type": "markdown",
   "id": "a419948d-0c9f-4d92-b14d-df43569a5a29",
   "metadata": {},
   "source": [
    "# Functionality 2"
   ]
  },
  {
   "cell_type": "markdown",
   "id": "eee8c4b3-f8d0-4241-b829-3ed2c6c20a2f",
   "metadata": {},
   "source": [
    "### Import pakages:"
   ]
  },
  {
   "cell_type": "code",
   "execution_count": 1,
   "id": "6c84e0e1-33c8-4972-a98e-f0750afe839b",
   "metadata": {
    "tags": []
   },
   "outputs": [],
   "source": [
    "# pip install decorator==5.0.9\n",
    "import pandas as pd\n",
    "import networkx as nx\n",
    "import pickle\n",
    "import math\n",
    "import heapq\n",
    "import matplotlib.pyplot as plt"
   ]
  },
  {
   "cell_type": "markdown",
   "id": "ee64b0cd-79ba-4d13-a76c-c928b1f747ef",
   "metadata": {},
   "source": [
    "### Functions:"
   ]
  },
  {
   "cell_type": "code",
   "execution_count": 2,
   "id": "9f9470b2-8deb-4987-bea5-fee38bb6adb1",
   "metadata": {},
   "outputs": [],
   "source": [
    "def BellmanFord(graph, id_root):\n",
    "    \n",
    "    '''BellmanFord is an algorithm for shorest paths between a node and  all other nodes for weighted graph.\n",
    "    \n",
    "        Time complexity:\n",
    "            - O(VE) with V number of nodes and E number of edges. \n",
    "            \n",
    "        Args:\n",
    "            - graph, a graph as networkx object.\n",
    "            - id_root, the id of a node as integer. \n",
    "            \n",
    "        Returns:\n",
    "            - vertex, a list containing the nodes of the graph.\n",
    "            - distance, a vector containing the computed distance between the root and the other nodes. The lenght is equal to the number of nodes \n",
    "            and the order is the  same of nodes (the distance of vertex[i] is given by distance[i]).\n",
    "            - prede, a vector containing the index of the pedecessor of each node (the predecessor of vertex[i] is  given by vertex[prede[i]]).\n",
    "        '''\n",
    "\n",
    "    n = graph.number_of_nodes()\n",
    "    vertex = list(graph.nodes())\n",
    "    id_root_index =  vertex.index(id_root)\n",
    "    \n",
    "    distance = [math.inf] * n\n",
    "    prede =['Na'] * n\n",
    "    \n",
    "    distance[id_root_index] = 0             \n",
    "    \n",
    "    edges = list(graph.edges(node_id, data = 'weight', keys = True))\n",
    "    \n",
    "    for i in range(0,n-1):\n",
    "        \n",
    "        for u, v, t, w  in edges:\n",
    "            \n",
    "            idex_u = vertex.index(u)\n",
    "            index_v = vertex.index(v)\n",
    "                \n",
    "            if distance[index_u] + w < distance[index_v]:\n",
    "                \n",
    "                distance[index_v] = distance[index_u] + w\n",
    "                \n",
    "                pred[index_v] = index_u\n",
    "\n",
    "    return distance, prede, vertex"
   ]
  },
  {
   "cell_type": "code",
   "execution_count": 3,
   "id": "b2fb3bff-d937-480c-ad4b-a4e4e7166025",
   "metadata": {},
   "outputs": [],
   "source": [
    "def page_rank(graph, num_iter, node_id, d = 0.85):\n",
    "    \n",
    "    '''The function computes the page rank of a given node in a given graph.\n",
    "        \n",
    "        Args:\n",
    "            - graph, a graph as networkx object.\n",
    "            - num_iter, number of iterations as integer. Its value determins the convergence of the page ranks.\n",
    "            - node_id, the id of a node as integer.\n",
    "            - d, damping factor as float. Google s algorithm use 0,85 as default value.\n",
    "        \n",
    "        Returns:\n",
    "            - The page rank of the given node '''\n",
    "    \n",
    "    n = graph.number_of_nodes()\n",
    "    \n",
    "    nodes = list(graph.nodes())\n",
    "    \n",
    "    page_rank = [1/n] * n\n",
    "    \n",
    "    i = 0\n",
    "    \n",
    "    while i < num_iter:\n",
    "        \n",
    "        for v in nodes:\n",
    "            \n",
    "            v_index = nodes.index(v)\n",
    "            \n",
    "            v_in_edges = list(graph.in_edges(v, data = 'weight', keys = True))\n",
    "            \n",
    "            sommatoria = 0\n",
    "            \n",
    "            for u, _, t, w in v_in_edges:\n",
    "                \n",
    "                u_index = nodes.index(u)\n",
    "                \n",
    "                c_u = len(list(graph.out_edges(u)))\n",
    "                \n",
    "                sommatoria += page_rank[u_index]/c_u\n",
    "                \n",
    "            page_rank[v_index] = ((1 - d) / n) + (d * (sommatoria)) \n",
    "        \n",
    "        i += 1\n",
    "            \n",
    "    node_id_index = nodes.index(node_id)\n",
    "    \n",
    "    return (page_rank[node_id_index])"
   ]
  },
  {
   "cell_type": "code",
   "execution_count": 73,
   "id": "f9fd62bc-b1e4-40e5-9128-5a5aad09f33c",
   "metadata": {},
   "outputs": [],
   "source": [
    "def n_shortest(graph, source):\n",
    "    '''It is an adaptation of Dijkstra that computes the number of shortest pasths between a root node and all other nodes in a given directed weighted graph.\n",
    "        \n",
    "        Args:\n",
    "            -graph, a graph as networkx object.\n",
    "            -source, the id of the root node as integer.\n",
    "        Returns:\n",
    "            -nodes, a list containing all the nodes.\n",
    "            -paths, a list containing the number of shortest paths between the root node and all other nodes in the graph \n",
    "                (the number of shortest path between the root and the nodes[i] is path[i]).\n",
    "            -distance, a list containing the distance between the root and all the nodes (the distance between the root and the nodes[i] is distance[i]).\n",
    "            '''\n",
    "    n = graph.number_of_nodes()\n",
    "    nodes = list(graph.nodes())\n",
    "    index_source = nodes.index(source)\n",
    "    \n",
    "    distance = [math.inf] * n\n",
    "    paths = [0] * n\n",
    "    queue = []\n",
    "    \n",
    "    distance[index_source] = 0\n",
    "    paths[index_source] = 1\n",
    "    heapq.heappush(queue,(0,str(source)))\n",
    "    \n",
    "    while queue != []:\n",
    "        \n",
    "        length, current = heapq.heappop(queue)\n",
    "        \n",
    "        curr_index = nodes.index(int(current))\n",
    "        \n",
    "        out_edges = list(graph.out_edges(int(current),data = 'weight',keys = True))\n",
    "        \n",
    "        for _, v, t, w in out_edges:\n",
    "            \n",
    "            v_index = nodes.index(v)\n",
    "            \n",
    "            if distance[v_index] > (distance[curr_index] + w) :\n",
    "                \n",
    "                heapq.heappush(queue,(length + w, str(v)))\n",
    "                \n",
    "                distance[v_index] = distance[curr_index] + w\n",
    "                \n",
    "                paths[v_index] = paths[curr_index]\n",
    "            \n",
    "            elif distance[v_index] == (distance[curr_index] + w) :\n",
    "                \n",
    "                paths[v_index] = paths[v_index] + paths[curr_index]\n",
    "                \n",
    "    \n",
    "    \n",
    "    return paths, distance, nodes"
   ]
  },
  {
   "cell_type": "code",
   "execution_count": 5,
   "id": "22a19cd1-1e91-4f4e-b3b6-ecca83366cc3",
   "metadata": {},
   "outputs": [],
   "source": [
    "def n_shortest_avoiding(graph, source, node_to_avoid):\n",
    "    \n",
    "    '''It is an adaptation of Dijkstra that computes the number of shortest pasths between a root node and all other nodes in a given directed weighted graph\n",
    "        avoiding all the paths that go through a given node.\n",
    "        \n",
    "        Args:\n",
    "            -graph, a graph as networkx object.\n",
    "            -source, the id of the root node as integer.\n",
    "            -node_to_avoid, the id of the node to avoid as integer\n",
    "        Returns:\n",
    "            -nodes, a list containing all the nodes.\n",
    "            -paths, a list containing the number of shortest paths between the root node and all other nodes in the graph \n",
    "                (the number of shortest path between the root and the nodes[i] is path[i]). The distance to the node to avoid is 0, the same happens\n",
    "                if does not exist any path between the root and a node.\n",
    "            -distance, a list containing the distance between the root and all the nodes\n",
    "                (the distance between the root and the nodes[i] is distance[i]). the distance to the node to avoid is inf, the same happens\n",
    "                if does not exist any path between the root and a node.\n",
    "            '''\n",
    "    \n",
    "    n = graph.number_of_nodes()\n",
    "    nodes = list(graph.nodes())\n",
    "    index_source = nodes.index(source)\n",
    "    \n",
    "    distance = [math.inf] * n\n",
    "    paths = [0] * n\n",
    "    queue = []\n",
    "    \n",
    "    distance[index_source] = 0\n",
    "    paths[index_source] = 1\n",
    "    heapq.heappush(queue,(0,str(source)))\n",
    "    \n",
    "    while queue != []:\n",
    "        \n",
    "        length, current = heapq.heappop(queue)\n",
    "        \n",
    "        curr_index = nodes.index(int(current))\n",
    "        \n",
    "        out_edges = list(graph.out_edges(int(current),data = 'weight',keys = True))\n",
    "        \n",
    "        for _, v, t, w in out_edges:\n",
    "            \n",
    "            if v == node_to_avoid:\n",
    "                \n",
    "                w_v = math.inf\n",
    "                \n",
    "            else:\n",
    "                \n",
    "                w_v = w\n",
    "            \n",
    "            v_index = nodes.index(v)\n",
    "            \n",
    "            if distance[v_index] > (distance[curr_index] + w_v) :\n",
    "                \n",
    "                heapq.heappush(queue,(length + w, str(v)))\n",
    "                \n",
    "                distance[v_index] = distance[curr_index] + w\n",
    "                \n",
    "                paths[v_index] = paths[curr_index]\n",
    "            \n",
    "            elif distance[v_index] == (distance[curr_index] + w_v) :\n",
    "                \n",
    "                paths[v_index] = paths[v_index] + paths[curr_index]\n",
    "                \n",
    "    return paths, distance, nodes"
   ]
  },
  {
   "cell_type": "code",
   "execution_count": 6,
   "id": "d6f5e5ea-a90e-4fa8-8130-7b205757699e",
   "metadata": {},
   "outputs": [],
   "source": [
    "def betweenness(graph, node_id):\n",
    "    '''The function compute the betweennes centrality  of given node in a graph.\n",
    "        \n",
    "        Args:\n",
    "            -graph, a graph as networkx object.\n",
    "            -node_id, the id of a node as integer.\n",
    "        \n",
    "        Returns:\n",
    "            -betweenness, the betweenness centrality of the given node.\n",
    "            '''\n",
    "    nodes = list(graph.nodes())\n",
    "    \n",
    "    betweenness = 0\n",
    "    \n",
    "    nta_index = nodes.index(node_id)\n",
    "    \n",
    "    for i in nodes:\n",
    "        \n",
    "        if i != node_id:\n",
    "            \n",
    "            paths1, dist1, _= n_shortest(graph, i)\n",
    "            \n",
    "            del paths1[nta_index]\n",
    "            \n",
    "            del dist1[nta_index]\n",
    "            \n",
    "            paths2, dist2, _ = n_shortest_avoiding(graph, i, node_id)\n",
    "            \n",
    "            del paths2[nta_index]\n",
    "            \n",
    "            del dist2[nta_index]\n",
    "            \n",
    "            for j in range(paths1):\n",
    "                \n",
    "                if dist1[j] < dist2[j] and paths1[j] != 0:\n",
    "                    \n",
    "                    betweenness += 1\n",
    "                    \n",
    "                if dist1[j] == dist2[j] and paths1[j] != 0 :\n",
    "                    \n",
    "                    numerator = paths1[j] - paths2[j]\n",
    "                    \n",
    "                    betweenness += numerator/paths1[j]\n",
    "                    \n",
    "        else:\n",
    "            \n",
    "            continue\n",
    "            \n",
    "    return betweenness"
   ]
  },
  {
   "cell_type": "code",
   "execution_count": 68,
   "id": "c8aeebc6-fc1d-4e98-b052-226c7f066fe5",
   "metadata": {},
   "outputs": [],
   "source": [
    "def sub_graph(graph, starting_date, ending_date):\n",
    "    '''The function compute the sub-graph of a temporal directed graph in a given interval of time.\n",
    "        \n",
    "        Args:\n",
    "            -graph, a graph as networkx object.\n",
    "            -starting_date, the starting date as string with this format YYYY-MM-DD.\n",
    "            -ending_date, the ending date as string with this format YYYY-MM-DD.\n",
    "        \n",
    "        Returns:\n",
    "            -sub_g, a graph as networkx object.'''\n",
    "    \n",
    "    \n",
    "    sub_g = nx.MultiDiGraph()\n",
    "    \n",
    "    for u,v,t in list(g.edges):\n",
    "        \n",
    "        if t >= pd.to_datetime(starting_date) and t <= pd.to_datetime(ending_date):\n",
    "            \n",
    "            w = g.get_edge_data(u,v,t)['weight']\n",
    "            \n",
    "            sub_g.add_edge(u,v,t,weight = w)\n",
    "                \n",
    "    return sub_g"
   ]
  },
  {
   "cell_type": "code",
   "execution_count": 69,
   "id": "5c603930-781c-4b66-9330-78f84ac9ac03",
   "metadata": {},
   "outputs": [],
   "source": [
    "def sub_graph_2(graph, node_id):\n",
    "    \n",
    "    '''The function computes the sub-graph of a given graph (directed) taking only a given node and its neighbors.\n",
    "        \n",
    "        Args:\n",
    "            -graph, a graph as networkx object.\n",
    "            -node_id, an id of a node as integer.\n",
    "        \n",
    "        Returns:\n",
    "            -sub_g, a graph as networkx object.\n",
    "        '''\n",
    "    \n",
    "    sub_g = nx.MultiDiGraph()\n",
    "    \n",
    "    out_edges = list(graph.out_edges(node_id, data = 'weight', keys = True))\n",
    "    \n",
    "    in_edges = list(graph.in_edges(node_id, data = 'weight', keys = True))\n",
    "    \n",
    "    for u, v, t, w in out_edges:\n",
    "        \n",
    "        sub_g.add_edge(u, v, t, weight = w)\n",
    "        \n",
    "    for u, v, t, w in in_edges:\n",
    "        \n",
    "        sub_g.add_edge(u, v, t, weight = w)\n",
    "    \n",
    "    return sub_g"
   ]
  },
  {
   "cell_type": "code",
   "execution_count": 70,
   "id": "89a11245-54ce-462a-92bf-82904306b3da",
   "metadata": {
    "tags": []
   },
   "outputs": [],
   "source": [
    "def Functionality2 (node_id, starting_date, ending_date, metric, graph):\n",
    "    \n",
    "    '''The function computes the choosen centrality metric of a given node. The graph is a directed temporal graph. \n",
    "    The metric is computed only on the sub-graph generated by the choosen interval of time.\n",
    "        \n",
    "        Args:\n",
    "            -node_id, an id of a node as integer.\n",
    "            -starting_date, the starting date as string with this format YYYY-MM-DD.\n",
    "            -ending_date, the ending date as string with this format YYYY-MM-DD.\n",
    "            -metric, a metric as string choosen between: Betweenness, DegreeCentrality, ClosenessCentrality, PageRank.\n",
    "            -graph, a graph as networkx object.\n",
    "        \n",
    "        Returns:\n",
    "            - the value of the choosen centrality for the given node.\n",
    "            '''\n",
    "        \n",
    "        \n",
    "    if node_id in list(graph.nodes()):\n",
    "        \n",
    "        sub_g = sub_graph(graph, starting_date, ending_date)\n",
    "                    \n",
    "        n = sub_g.number_of_nodes()\n",
    "        \n",
    "        if n == 0:\n",
    "            \n",
    "            return('The graph does not contain any node')\n",
    "        \n",
    "        else:\n",
    "            if metric == 'Betweenness':\n",
    "                \n",
    "                return ('Betweenness: ' + str(betweenness(sub_g, node_id)))\n",
    "                \n",
    "            elif metric == 'DegreeCentrality':\n",
    "                \n",
    "                edges = list(sub_g.edges(node_id, data = 'weight', keys = True))\n",
    "            \n",
    "                w_edges = 0\n",
    "            \n",
    "                for _, _, _, w in edges:\n",
    "                \n",
    "                    w_edges += w\n",
    "                \n",
    "                return ('DegreeCentrality: ' + str(w_edges/(n-1)))\n",
    "            \n",
    "            elif metric == 'ClosenessCentrality':\n",
    "                \n",
    "                distance, _, _ = BellmanFord(sub_g, node_id)\n",
    "                \n",
    "                return ('ClosenessCentrality: ' + str((n-1)/sum(distance)))\n",
    "            \n",
    "            elif metric == 'PageRank':\n",
    "                \n",
    "                return ('PageRank: ' + str(page_rank(sub_g, 100, node_id = node_id, d = 0.85)))\n",
    "                   \n",
    "    else:\n",
    "        return('the node does not belong to the graph')\n",
    "    \n",
    "    \n",
    "    \n",
    "    "
   ]
  },
  {
   "cell_type": "code",
   "execution_count": 72,
   "id": "6e83c9c4-9f03-4a27-a6cb-c8e8cccf8c82",
   "metadata": {},
   "outputs": [],
   "source": [
    "def visualize_fun_2(graph, node_id, starting_date, ending_date, metric):\n",
    "    \n",
    "    '''The function computes the choosen centrality metric of a given node. The graph is a directed temporal graph. \n",
    "    The metric is computed only on the sub-graph generated by the choosen interval of time. The fuction also plots\n",
    "    the given node and its neighbors.\n",
    "        \n",
    "        Args:\n",
    "            -node_id, an id of a node as integer.\n",
    "            -starting_date, the starting date as string with this format YYYY-MM-DD.\n",
    "            -ending_date, the ending date as string with this format YYYY-MM-DD.\n",
    "            -metric, a metric as string choosen between: Betweenness, DegreeCentrality, ClosenessCentrality, PageRank.\n",
    "            -graph, a graph as networkx object.\n",
    "        \n",
    "        Returns:\n",
    "            -The node and its neighbors. it also print the metric and its value.\n",
    "    '''\n",
    "    \n",
    "    m = Functionality2 (node_id, starting_date, ending_date, metric, graph)\n",
    "    \n",
    "    print(m)\n",
    "    \n",
    "    sub_g = sub_graph(graph, starting_date, ending_date)\n",
    "    \n",
    "    sub_g = sub_graph_2(sub_g, node_id)\n",
    "    \n",
    "    n = sub_g.number_of_nodes()\n",
    "    \n",
    "    nx.draw_networkx(sub_g ,arrows = True, with_labels = False, node_color = ['Red'] + (['Blue'] * (n - 1)))\n",
    "    "
   ]
  },
  {
   "cell_type": "markdown",
   "id": "66e096bd-88d9-4ad1-a646-90c18c979be4",
   "metadata": {},
   "source": [
    "## Load Graphs:"
   ]
  },
  {
   "cell_type": "markdown",
   "id": "5f96b3b4-3e4d-4e1c-bc6e-5b1ccb929a66",
   "metadata": {},
   "source": [
    "### Answers graph"
   ]
  },
  {
   "cell_type": "code",
   "execution_count": 10,
   "id": "f02ce86f-8667-48b3-98e6-985e2cbde51b",
   "metadata": {
    "tags": []
   },
   "outputs": [],
   "source": [
    "answers = pd.read_csv(\"sx-stackoverflow-a2q.txt\", sep = \" \", header = None, names = ['Active_User', 'Passive_User', 'Date'])"
   ]
  },
  {
   "cell_type": "code",
   "execution_count": 11,
   "id": "d044f48a-b1db-46ab-b623-4055666cc35e",
   "metadata": {
    "tags": []
   },
   "outputs": [],
   "source": [
    "answers[\"Date\"] = pd.to_datetime(answers['Date'], unit = 's')"
   ]
  },
  {
   "cell_type": "code",
   "execution_count": 12,
   "id": "79706bb9-ed8f-4c5e-8160-f6cf21e93e1e",
   "metadata": {
    "tags": []
   },
   "outputs": [],
   "source": [
    "Recent_answers = answers[(answers['Date'] >= '2016-01-01') & (answers[\"Active_User\"] != answers[\"Passive_User\"])].copy()"
   ]
  },
  {
   "cell_type": "code",
   "execution_count": 13,
   "id": "f8977d18-d934-41a5-9f88-6a3d78e0e810",
   "metadata": {
    "tags": []
   },
   "outputs": [],
   "source": [
    "Recent_answers[\"weight\"] = 1"
   ]
  },
  {
   "cell_type": "code",
   "execution_count": 14,
   "id": "2c9726de-ee65-4c4d-bc90-ed344dad99d4",
   "metadata": {
    "tags": []
   },
   "outputs": [],
   "source": [
    "g1 = nx.from_pandas_edgelist(Recent_answers, \"Active_User\", \"Passive_User\", edge_attr = 'weight', create_using = nx.MultiDiGraph(), edge_key = \"Date\")"
   ]
  },
  {
   "cell_type": "markdown",
   "id": "1a117b8c-f62b-49ab-9caa-ad7bc621bb8d",
   "metadata": {},
   "source": [
    "### Comments to questions graph"
   ]
  },
  {
   "cell_type": "code",
   "execution_count": 16,
   "id": "ebfe09fb-8497-4aeb-9628-cd86d31081ef",
   "metadata": {
    "tags": []
   },
   "outputs": [],
   "source": [
    "comments_onQuestions = pd.read_csv(\"sx-stackoverflow-c2q.txt\", sep = \" \", header = None, names = ['Active_User', 'Passive_User', 'Date'])"
   ]
  },
  {
   "cell_type": "code",
   "execution_count": 17,
   "id": "79a1ddab-c4e8-4bde-9420-3cc444f36e8f",
   "metadata": {
    "tags": []
   },
   "outputs": [],
   "source": [
    "comments_onQuestions[\"Date\"] = pd.to_datetime(comments_onQuestions['Date'], unit = 's')"
   ]
  },
  {
   "cell_type": "code",
   "execution_count": 18,
   "id": "7b6a0860-2789-4482-a718-f3d8c616d3a9",
   "metadata": {
    "tags": []
   },
   "outputs": [],
   "source": [
    "Recent_comments_onQuestions = comments_onQuestions[(comments_onQuestions['Date'] >= '2016-01-01') & (comments_onQuestions[\"Active_User\"] != comments_onQuestions[\"Passive_User\"])].copy()"
   ]
  },
  {
   "cell_type": "code",
   "execution_count": 19,
   "id": "1ed4a79a-ad02-47c8-951c-c7bb2ecca911",
   "metadata": {
    "tags": []
   },
   "outputs": [],
   "source": [
    "Recent_comments_onQuestions[\"weight\"] = 0.4"
   ]
  },
  {
   "cell_type": "code",
   "execution_count": 20,
   "id": "206c8ab6-2bbe-462b-aa37-879649422585",
   "metadata": {
    "tags": []
   },
   "outputs": [],
   "source": [
    "g2 = nx.from_pandas_edgelist(Recent_comments_onQuestions, \"Active_User\", \"Passive_User\",edge_attr = 'weight',create_using=nx.MultiDiGraph(),edge_key=\"Date\")"
   ]
  },
  {
   "cell_type": "markdown",
   "id": "5252d48b-d963-44a3-a0fa-69dda337b52a",
   "metadata": {},
   "source": [
    "### Comments to answers graph"
   ]
  },
  {
   "cell_type": "code",
   "execution_count": 21,
   "id": "8711cfbe-ff8f-4007-a8e0-4fd803213741",
   "metadata": {
    "tags": []
   },
   "outputs": [],
   "source": [
    "comments_onAnswers = pd.read_csv(\"sx-stackoverflow-c2a.txt\", sep = \" \", header = None, names = ['Active_User', 'Passive_User', 'Date'])"
   ]
  },
  {
   "cell_type": "code",
   "execution_count": 22,
   "id": "97dbd181-b2c5-424a-9851-a3b10f93212a",
   "metadata": {
    "tags": []
   },
   "outputs": [],
   "source": [
    "comments_onAnswers[\"Date\"] = pd.to_datetime(comments_onAnswers['Date'], unit = 's')"
   ]
  },
  {
   "cell_type": "code",
   "execution_count": 23,
   "id": "d7931ea4-15ad-4711-b5e8-93c49cb54b18",
   "metadata": {
    "tags": []
   },
   "outputs": [],
   "source": [
    "Recent_comments_onAnswers = comments_onAnswers[(comments_onAnswers['Date'] >= '2016-01-01') & (comments_onAnswers[\"Active_User\"] != comments_onAnswers[\"Passive_User\"])].copy()"
   ]
  },
  {
   "cell_type": "code",
   "execution_count": 24,
   "id": "58c4a5fe-a925-48e2-aad5-a96eea2feb7d",
   "metadata": {
    "tags": []
   },
   "outputs": [],
   "source": [
    "Recent_comments_onAnswers[\"weight\"] = 0.6"
   ]
  },
  {
   "cell_type": "code",
   "execution_count": 25,
   "id": "9549d1af-041e-440f-b79b-94232128e483",
   "metadata": {
    "tags": []
   },
   "outputs": [],
   "source": [
    "g3 = nx.from_pandas_edgelist(Recent_comments_onAnswers, \"Active_User\", \"Passive_User\", edge_attr = 'weight', edge_key = \"Date\",create_using = nx.MultiDiGraph()) "
   ]
  },
  {
   "cell_type": "markdown",
   "id": "a6fddb7c-8436-4981-aa81-be4049a97dcb",
   "metadata": {},
   "source": [
    "### Combining Graphs"
   ]
  },
  {
   "cell_type": "code",
   "execution_count": 26,
   "id": "c7c8b614-f43e-4712-8a88-b038112c0da3",
   "metadata": {},
   "outputs": [],
   "source": [
    "g = nx.compose(g1,g2)"
   ]
  },
  {
   "cell_type": "code",
   "execution_count": 27,
   "id": "a8469044-4483-449c-a9d7-8bebb13c7ac2",
   "metadata": {},
   "outputs": [],
   "source": [
    "g = nx.compose(g, g3)"
   ]
  },
  {
   "cell_type": "markdown",
   "id": "fb1b2362-beac-4d43-8617-9cb0069a06ea",
   "metadata": {},
   "source": [
    "## Visualize graph and metrics"
   ]
  },
  {
   "cell_type": "code",
   "execution_count": 49,
   "id": "b8e6f319-32bc-42ec-b6fd-10c421a70891",
   "metadata": {},
   "outputs": [],
   "source": [
    "node = 3877963"
   ]
  },
  {
   "cell_type": "code",
   "execution_count": 50,
   "id": "76eb2751-a0d4-4f51-9e48-b2c782bdbf2f",
   "metadata": {},
   "outputs": [],
   "source": [
    "sd = '2016-01-01'\n",
    "ed = '2016-06-01'"
   ]
  },
  {
   "cell_type": "code",
   "execution_count": 51,
   "id": "7688df05-8bd6-4475-ac07-53c454113bd0",
   "metadata": {},
   "outputs": [],
   "source": [
    "m = 'DegreeCentrality'"
   ]
  },
  {
   "cell_type": "code",
   "execution_count": 71,
   "id": "804a7cc3-d45e-4331-b433-22d2a51657d1",
   "metadata": {},
   "outputs": [
    {
     "name": "stdout",
     "output_type": "stream",
     "text": [
      "DegreeCentrality: 1.7702536820111944e-05\n",
      "ciao\n"
     ]
    },
    {
     "data": {
      "image/png": "[encoded data removed]",
      "text/plain": [
       "<Figure size 432x288 with 1 Axes>"
      ]
     },
     "metadata": {},
     "output_type": "display_data"
    }
   ],
   "source": [
    "visualize_fun_2(g, node, sd, ed, m)"
   ]
  }
 ],
 "metadata": {
  "kernelspec": {
   "display_name": "Python 3",
   "language": "python",
   "name": "python3"
  },
  "language_info": {
   "codemirror_mode": {
    "name": "ipython",
    "version": 3
   },
   "file_extension": ".py",
   "mimetype": "text/x-python",
   "name": "python",
   "nbconvert_exporter": "python",
   "pygments_lexer": "ipython3",
   "version": "3.8.8"
  }
 },
 "nbformat": 4,
 "nbformat_minor": 5
}
