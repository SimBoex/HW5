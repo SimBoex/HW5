{
 "cells": [
  {
   "cell_type": "markdown",
   "id": "594614a8",
   "metadata": {},
   "source": [
    "# ALGORITHMIC QUESTION\n",
    "----\n",
    "### A number n of kids are in a camp. Between some k pairs of them (a kid can be part of more than one pairs) there are often fights. At night there are two dormitories where the kids can sleep. We want, if possible, to assign each kid in one of the two dormitories in such a way that each pair of kids that fights often is assigned to a different dormitory. (There are no space problems and the two dormitories can have different number of kids.)\n",
    "\n",
    "### Give an algorithm that is linear in n and k that is able to answer whether such an assignment is possible and, if so, return one."
   ]
  },
  {
   "cell_type": "markdown",
   "id": "265663be",
   "metadata": {},
   "source": [
    "So the problem has this structure:\n",
    "- n = number of kids\n",
    "- k = fight pair \n",
    "- m = 2 dormitories \n",
    "- $ min:f(x) =$ fighting level (number of fighting pair in each dormitories)\n",
    "\n",
    "it is clear that we have : based on the binomial coefficient $\\binom{n}{k} = \\frac{n!}{k!(n-k)!}$ \n",
    "\n",
    "with $n \\in \\mathbb{N}$ and $k = 2$. (i.g. for 10 kids we have at most $\\binom{10}{2}= 45$ possible pair of enemies)\n",
    "\n",
    "Our algorithm will be possibly accept as an input a list/dictionary of the possible pairs of all the fights between the kids, and will return a optimal disposition into the two dormitories possibly, after minimazing the $f(x)$ it will also balance the presence of kids in each dormitories.\n",
    "\n",
    "\n",
    "we will be using a dictionary where the keys are the id of each kid and its values will be the id of the kids whom each kid has a threat."
   ]
  },
  {
   "cell_type": "markdown",
   "id": "dd35336b",
   "metadata": {},
   "source": [
    "Let's create a function which will generate random possible fight lists:"
   ]
  },
  {
   "cell_type": "code",
   "execution_count": 1,
   "id": "b5578916",
   "metadata": {},
   "outputs": [],
   "source": [
    "import random                       #importing random library for random initialization\n",
    "from collections import defaultdict   #importing default dict for using it as {key : [values]}\n",
    "                                       #since lists as values are useful in this task"
   ]
  },
  {
   "cell_type": "code",
   "execution_count": 2,
   "id": "97d229b2",
   "metadata": {},
   "outputs": [],
   "source": [
    "random.seed(15)         #setting seed for reproducibility\n",
    "n = 10 \n",
    "k = '?'"
   ]
  },
  {
   "cell_type": "code",
   "execution_count": 3,
   "id": "8ca2eec3",
   "metadata": {
    "scrolled": true
   },
   "outputs": [],
   "source": [
    "def fightdict(n):\n",
    "    \n",
    "    f_dict = defaultdict(list)                                 #initializing empty dict \n",
    "    \n",
    "    for key in range(1,n+1):                                              #creating fight dictionary\n",
    "        f_dict[key] = random.sample(range(1, n+1), random.randint(0, n))   #randomly picking enmity for each kid\n",
    "        for value in f_dict[key]:                                        #removing enmity against the kid himself\n",
    "            if value == key:\n",
    "                f_dict[key].remove(value)\n",
    "                \n",
    "    return f_dict    "
   ]
  },
  {
   "cell_type": "markdown",
   "id": "c9c3b27b",
   "metadata": {},
   "source": [
    "def adjustdict(d):\n",
    "    for key in range(1,len(d)):                          #we're removing absent enmity match (make love >.<)\n",
    "        for value in d[key]:            #based on the assumption if you have problems with me the problem is yours\n",
    "            if key not in d[value]:\n",
    "                d[key].remove(value)\n",
    "    return d"
   ]
  },
  {
   "cell_type": "code",
   "execution_count": 4,
   "id": "4f750f98",
   "metadata": {},
   "outputs": [],
   "source": [
    "def adjustdict(d):                    #adjusting the enmity dict by removing enmities that are not mutual\n",
    "    for key in d.keys():\n",
    "        l = []\n",
    "        for value in d[key]:\n",
    "            if key in d[value]:\n",
    "                l.append(value)\n",
    "        d[key] = l \n",
    "        l = []\n",
    "    \n",
    "    return d"
   ]
  },
  {
   "cell_type": "markdown",
   "id": "8379e96c",
   "metadata": {},
   "source": [
    "So this is our fighiting dict before adjustments:"
   ]
  },
  {
   "cell_type": "code",
   "execution_count": 5,
   "id": "2313f7cc",
   "metadata": {
    "scrolled": true
   },
   "outputs": [
    {
     "data": {
      "text/plain": [
       "defaultdict(list,\n",
       "            {1: [9, 10],\n",
       "             2: [4, 1],\n",
       "             3: [],\n",
       "             4: [3, 6, 1, 10, 8, 9, 2, 5, 7],\n",
       "             5: [4, 10, 6, 7, 3],\n",
       "             6: [5, 9, 7],\n",
       "             7: [10, 8],\n",
       "             8: [2, 6, 4, 5, 3, 7],\n",
       "             9: [2, 8, 1, 10, 7, 5],\n",
       "             10: [1]})"
      ]
     },
     "execution_count": 5,
     "metadata": {},
     "output_type": "execute_result"
    }
   ],
   "source": [
    "a = fightdict(10)\n",
    "a"
   ]
  },
  {
   "cell_type": "markdown",
   "id": "6fb6506f",
   "metadata": {},
   "source": [
    "This is the adjusted dict, as is possible to see non mutual enmity have been deleted "
   ]
  },
  {
   "cell_type": "code",
   "execution_count": 6,
   "id": "5ec93c15",
   "metadata": {},
   "outputs": [
    {
     "data": {
      "text/plain": [
       "defaultdict(list,\n",
       "            {1: [9, 10],\n",
       "             2: [4],\n",
       "             3: [],\n",
       "             4: [8, 2, 5],\n",
       "             5: [4, 6],\n",
       "             6: [5],\n",
       "             7: [8],\n",
       "             8: [4, 7],\n",
       "             9: [1],\n",
       "             10: [1]})"
      ]
     },
     "execution_count": 6,
     "metadata": {},
     "output_type": "execute_result"
    }
   ],
   "source": [
    "adjustdict(a)  "
   ]
  },
  {
   "cell_type": "markdown",
   "id": "71dd00cd",
   "metadata": {},
   "source": [
    "Now that we have our dictionary to label kids fightings let's move on :\n",
    "- think about the fact: if one doesn't get along only with 9,10 this means is going to be fine with anyone else"
   ]
  },
  {
   "cell_type": "code",
   "execution_count": 7,
   "id": "b36f914f",
   "metadata": {},
   "outputs": [],
   "source": [
    "def Nofightings(d):\n",
    "    \n",
    "    dorm1 , dorm2 = {} , {}                        #initializing empty dormitory dict\n",
    "    fighting_lv1 , fighting_lv2 = 0 , 0            #0 level of fighitings in dormitory \n",
    "   \n",
    "    \n",
    "    '''CALCULATING FIGHTING LEVEL FOR EACH DORMITORY'''\n",
    "    '''AND RANDOMLY FILLING THE DORMITORY'''\n",
    "    \n",
    "    for kid in d:\n",
    "        dorm_picker = random.randint(1,2)            #randomly allocating kids in one dormitory\n",
    "        if kid not in dorm1 and dorm_picker == 1:\n",
    "            dorm1[kid] = d[kid]\n",
    "            \n",
    "        else:\n",
    "            dorm2[kid] = d[kid]\n",
    "    \n",
    "    for kid in dorm1:                          #checking the enmity for each kid for both dormitory:\n",
    "        for enemy in dorm1[kid]:               #if a corresponding enemy is in the same dormitory of the kid \n",
    "            if enemy in dorm1:                 #the fighitning level of the dormitory increases \n",
    "                fighting_lv1 +=1\n",
    "                \n",
    "    for kid in dorm2:\n",
    "        for enemy in dorm2[kid]:\n",
    "            if enemy in dorm2:\n",
    "                fighting_lv2 +=1       \n",
    "            \n",
    "    fighting_lv2 = fighting_lv2/2              #dividing by 2 to count just one time the enmity \n",
    "    fighting_lv1 = fighting_lv1/2              #(otherwise) it would have been counted twice one for each kid\n",
    "    \n",
    "    \n",
    "    \n",
    "    print('Random allocation for Dormitory 1', dorm1,fighting_lv1)\n",
    "    print('Random allocation for Dormitory 2', dorm2,fighting_lv2)    #checking the initial situation for comparing\n",
    "    \n",
    "    \n",
    "    '''re-allocating kids checking enmity'''\n",
    "    \n",
    "    for kid in dorm1.copy():                         #checking for each kid in the dormitory if the enemy is in the\n",
    "        if dorm1[kid] == []:                         #same dormitory, if so checking the most troublemaker \n",
    "            pass                                     #by comparing the len of the enmity list and just swap the\n",
    "        for enemy in dorm1[kid]:                                           #kinder kid in the other dormitory\n",
    "            if enemy in dorm1 and len(dorm1[kid]) <= len(dorm1[enemy]):            \n",
    "                dorm2[kid] = dorm1[kid]\n",
    "                dorm1.pop(kid)\n",
    "                fighting_lv1 -=1                           #since the threath for that specific kid has been solved\n",
    "                                                         #the fighting level decreases\n",
    "        \n",
    "    for kid in dorm2.copy():\n",
    "        if dorm2[kid] == []:\n",
    "            pass\n",
    "        for enemy in dorm2[kid]:\n",
    "            if enemy in dorm2 and len(dorm2[kid]) <= len(dorm2[enemy]):            \n",
    "                dorm1[kid] = dorm2[kid]\n",
    "                dorm2.pop(kid)\n",
    "                fighting_lv2 -=1\n",
    "                \n",
    "    \n",
    "    if fighting_lv1 < 0:                                 #if the fighting level gets less than 0 round it to 0 \n",
    "        fighting_lv1 = 0\n",
    "    if fighting_lv2 < 0:\n",
    "        fighting_lv2 = 0\n",
    "    \n",
    "    #return dorm1,int(fighting_lv1),dorm2,int(fighting_lv2)\n",
    "    print('Dormitory 1 will host kid : ', dorm1.keys(),end = '\\t')\n",
    "    print('The expected level of fighitings is : ', int(fighting_lv1))\n",
    "    print('Dormitory 2 will host kid : ', dorm2.keys(),end = '\\t')\n",
    "    print('The expected level of fighitings is : ', int(fighting_lv2))"
   ]
  },
  {
   "cell_type": "code",
   "execution_count": 8,
   "id": "fa37424d",
   "metadata": {},
   "outputs": [
    {
     "name": "stdout",
     "output_type": "stream",
     "text": [
      "Random allocation for Dormitory 1 {3: [], 4: [8, 2, 5], 5: [4, 6], 7: [8], 8: [4, 7]} 3.0\n",
      "Random allocation for Dormitory 2 {1: [9, 10], 2: [4], 6: [5], 9: [1], 10: [1]} 2.0\n",
      "Dormitory 1 will host kid :  dict_keys([3, 4, 6, 9, 10, 7])\tThe expected level of fighitings is :  0\n",
      "Dormitory 2 will host kid :  dict_keys([1, 2, 5, 8])\tThe expected level of fighitings is :  0\n"
     ]
    }
   ],
   "source": [
    "Nofightings(a)"
   ]
  },
  {
   "cell_type": "code",
   "execution_count": null,
   "id": "2859ecea",
   "metadata": {},
   "outputs": [],
   "source": []
  }
 ],
 "metadata": {
  "kernelspec": {
   "display_name": "Python 3 (ipykernel)",
   "language": "python",
   "name": "python3"
  },
  "language_info": {
   "codemirror_mode": {
    "name": "ipython",
    "version": 3
   },
   "file_extension": ".py",
   "mimetype": "text/x-python",
   "name": "python",
   "nbconvert_exporter": "python",
   "pygments_lexer": "ipython3",
   "version": "3.8.2"
  }
 },
 "nbformat": 4,
 "nbformat_minor": 5
}
